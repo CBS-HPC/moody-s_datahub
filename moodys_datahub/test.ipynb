{
 "cells": [
  {
   "cell_type": "code",
   "execution_count": 1,
   "metadata": {},
   "outputs": [
    {
     "name": "stdout",
     "output_type": "stream",
     "text": [
      "Installing modin[ray]...\n"
     ]
    }
   ],
   "source": [
    "from moodys_datahub.tools import *"
   ]
  },
  {
   "cell_type": "code",
   "execution_count": null,
   "metadata": {},
   "outputs": [
    {
     "name": "stdout",
     "output_type": "stream",
     "text": [
      "Retrieving Data Product overview from SFTP..wait a moment\n"
     ]
    },
    {
     "ename": "KeyError",
     "evalue": "'Data Product'",
     "output_type": "error",
     "traceback": [
      "\u001b[1;31m---------------------------------------------------------------------------\u001b[0m",
      "\u001b[1;31mKeyError\u001b[0m                                  Traceback (most recent call last)",
      "Cell \u001b[1;32mIn[2], line 1\u001b[0m\n\u001b[1;32m----> 1\u001b[0m SFTP \u001b[38;5;241m=\u001b[39m \u001b[43mSftp\u001b[49m\u001b[43m(\u001b[49m\u001b[43mprivatekey\u001b[49m\u001b[38;5;241;43m=\u001b[39;49m\u001b[38;5;124;43m\"\u001b[39;49m\u001b[38;5;124;43mparquet_test-ssh-key.pem\u001b[39;49m\u001b[38;5;124;43m\"\u001b[39;49m\u001b[43m)\u001b[49m\n",
      "File \u001b[1;32mc:\\Users\\kgp.lib\\Anaconda3\\envs\\moody_datahub\\Lib\\site-packages\\moodys_datahub\\tools.py:133\u001b[0m, in \u001b[0;36mSftp.__init__\u001b[1;34m(self, hostname, username, port, privatekey, data_product_template, local_repo)\u001b[0m\n\u001b[0;32m    129\u001b[0m \u001b[38;5;28mself\u001b[39m\u001b[38;5;241m.\u001b[39mconcat_files: \u001b[38;5;28mbool\u001b[39m \u001b[38;5;241m=\u001b[39m \u001b[38;5;28;01mTrue\u001b[39;00m\n\u001b[0;32m    131\u001b[0m \u001b[38;5;28mself\u001b[39m\u001b[38;5;241m.\u001b[39m_object_defaults()\n\u001b[1;32m--> 133\u001b[0m _,to_delete \u001b[38;5;241m=\u001b[39m \u001b[38;5;28;43mself\u001b[39;49m\u001b[38;5;241;43m.\u001b[39;49m\u001b[43mtables_available\u001b[49m\u001b[43m(\u001b[49m\u001b[43mproduct_overview\u001b[49m\u001b[43m \u001b[49m\u001b[38;5;241;43m=\u001b[39;49m\u001b[43m \u001b[49m\u001b[43mdata_product_template\u001b[49m\u001b[43m)\u001b[49m\n\u001b[0;32m    135\u001b[0m \u001b[38;5;28mself\u001b[39m\u001b[38;5;241m.\u001b[39m_server_clean_up(to_delete)\n",
      "File \u001b[1;32mc:\\Users\\kgp.lib\\Anaconda3\\envs\\moody_datahub\\Lib\\site-packages\\moodys_datahub\\tools.py:1110\u001b[0m, in \u001b[0;36mSftp.tables_available\u001b[1;34m(self, product_overview, save_to, reset)\u001b[0m\n\u001b[0;32m   1106\u001b[0m     \u001b[38;5;28mself\u001b[39m\u001b[38;5;241m.\u001b[39m_tables_available \u001b[38;5;241m=\u001b[39m \u001b[38;5;28mself\u001b[39m\u001b[38;5;241m.\u001b[39m_tables_backup\u001b[38;5;241m.\u001b[39mcopy()\n\u001b[0;32m   1109\u001b[0m \u001b[38;5;66;03m# Specify unknown data product exports\u001b[39;00m\n\u001b[1;32m-> 1110\u001b[0m \u001b[38;5;28;43mself\u001b[39;49m\u001b[38;5;241;43m.\u001b[39;49m\u001b[43m_specify_data_products\u001b[49m\u001b[43m(\u001b[49m\u001b[43m)\u001b[49m\n\u001b[0;32m   1112\u001b[0m _save_to(\u001b[38;5;28mself\u001b[39m\u001b[38;5;241m.\u001b[39m_tables_available,\u001b[38;5;124m'\u001b[39m\u001b[38;5;124mtables_available\u001b[39m\u001b[38;5;124m'\u001b[39m,save_to)\n\u001b[0;32m   1114\u001b[0m \u001b[38;5;28;01mreturn\u001b[39;00m \u001b[38;5;28mself\u001b[39m\u001b[38;5;241m.\u001b[39m_tables_available\u001b[38;5;241m.\u001b[39mcopy(), to_delete\n",
      "File \u001b[1;32mc:\\Users\\kgp.lib\\Anaconda3\\envs\\moody_datahub\\Lib\\site-packages\\moodys_datahub\\tools.py:2316\u001b[0m, in \u001b[0;36mSftp._specify_data_products\u001b[1;34m(self)\u001b[0m\n\u001b[0;32m   2313\u001b[0m df \u001b[38;5;241m=\u001b[39m \u001b[38;5;28mself\u001b[39m\u001b[38;5;241m.\u001b[39m_tables_available\u001b[38;5;241m.\u001b[39mcopy()\n\u001b[0;32m   2315\u001b[0m \u001b[38;5;66;03m# Filter rows where column '1' contains \"Mutliple_Options: \"\u001b[39;00m\n\u001b[1;32m-> 2316\u001b[0m df_multiple \u001b[38;5;241m=\u001b[39m df[\u001b[43mdf\u001b[49m\u001b[43m[\u001b[49m\u001b[38;5;124;43m'\u001b[39;49m\u001b[38;5;124;43mData Product\u001b[39;49m\u001b[38;5;124;43m'\u001b[39;49m\u001b[43m]\u001b[49m\u001b[38;5;241m.\u001b[39mapply(contains_multiple_options)]\u001b[38;5;241m.\u001b[39mcopy()\n\u001b[0;32m   2318\u001b[0m \u001b[38;5;28;01mif\u001b[39;00m \u001b[38;5;129;01mnot\u001b[39;00m df_multiple\u001b[38;5;241m.\u001b[39mempty:\n\u001b[0;32m   2319\u001b[0m     asyncio\u001b[38;5;241m.\u001b[39mensure_future(f(\u001b[38;5;28mself\u001b[39m,df,df_multiple))\n",
      "File \u001b[1;32mc:\\Users\\kgp.lib\\Anaconda3\\envs\\moody_datahub\\Lib\\site-packages\\pandas\\core\\frame.py:4102\u001b[0m, in \u001b[0;36mDataFrame.__getitem__\u001b[1;34m(self, key)\u001b[0m\n\u001b[0;32m   4100\u001b[0m \u001b[38;5;28;01mif\u001b[39;00m \u001b[38;5;28mself\u001b[39m\u001b[38;5;241m.\u001b[39mcolumns\u001b[38;5;241m.\u001b[39mnlevels \u001b[38;5;241m>\u001b[39m \u001b[38;5;241m1\u001b[39m:\n\u001b[0;32m   4101\u001b[0m     \u001b[38;5;28;01mreturn\u001b[39;00m \u001b[38;5;28mself\u001b[39m\u001b[38;5;241m.\u001b[39m_getitem_multilevel(key)\n\u001b[1;32m-> 4102\u001b[0m indexer \u001b[38;5;241m=\u001b[39m \u001b[38;5;28;43mself\u001b[39;49m\u001b[38;5;241;43m.\u001b[39;49m\u001b[43mcolumns\u001b[49m\u001b[38;5;241;43m.\u001b[39;49m\u001b[43mget_loc\u001b[49m\u001b[43m(\u001b[49m\u001b[43mkey\u001b[49m\u001b[43m)\u001b[49m\n\u001b[0;32m   4103\u001b[0m \u001b[38;5;28;01mif\u001b[39;00m is_integer(indexer):\n\u001b[0;32m   4104\u001b[0m     indexer \u001b[38;5;241m=\u001b[39m [indexer]\n",
      "File \u001b[1;32mc:\\Users\\kgp.lib\\Anaconda3\\envs\\moody_datahub\\Lib\\site-packages\\pandas\\core\\indexes\\range.py:417\u001b[0m, in \u001b[0;36mRangeIndex.get_loc\u001b[1;34m(self, key)\u001b[0m\n\u001b[0;32m    415\u001b[0m         \u001b[38;5;28;01mraise\u001b[39;00m \u001b[38;5;167;01mKeyError\u001b[39;00m(key) \u001b[38;5;28;01mfrom\u001b[39;00m \u001b[38;5;21;01merr\u001b[39;00m\n\u001b[0;32m    416\u001b[0m \u001b[38;5;28;01mif\u001b[39;00m \u001b[38;5;28misinstance\u001b[39m(key, Hashable):\n\u001b[1;32m--> 417\u001b[0m     \u001b[38;5;28;01mraise\u001b[39;00m \u001b[38;5;167;01mKeyError\u001b[39;00m(key)\n\u001b[0;32m    418\u001b[0m \u001b[38;5;28mself\u001b[39m\u001b[38;5;241m.\u001b[39m_check_indexing_error(key)\n\u001b[0;32m    419\u001b[0m \u001b[38;5;28;01mraise\u001b[39;00m \u001b[38;5;167;01mKeyError\u001b[39;00m(key)\n",
      "\u001b[1;31mKeyError\u001b[0m: 'Data Product'"
     ]
    }
   ],
   "source": [
    "SFTP = Sftp(privatekey=\"csv_test-ssh-key.pem\")"
   ]
  },
  {
   "cell_type": "code",
   "execution_count": 8,
   "metadata": {},
   "outputs": [
    {
     "data": {
      "application/vnd.jupyter.widget-view+json": {
       "model_id": "8464cd00ef2a472cacde82b53cab39cf",
       "version_major": 2,
       "version_minor": 0
      },
      "text/plain": [
       "HTML(value='<h2>Select Data Product and Table</h2>')"
      ]
     },
     "metadata": {},
     "output_type": "display_data"
    },
    {
     "data": {
      "application/vnd.jupyter.widget-view+json": {
       "model_id": "ee4b86fbcc2f46f49520c32cf4c86f72",
       "version_major": 2,
       "version_minor": 0
      },
      "text/plain": [
       "HBox(children=(Dropdown(description='Data Product:', options=('Listed Financials (Monthly)', 'Interim Financia…"
      ]
     },
     "metadata": {},
     "output_type": "display_data"
    },
    {
     "data": {
      "application/vnd.jupyter.widget-view+json": {
       "model_id": "3c0704064c6a4e44bc81df3fa8d1393f",
       "version_major": 2,
       "version_minor": 0
      },
      "text/plain": [
       "HBox(children=(Dropdown(description='Table:', options=('cash_flow_non_us_industries', 'cash_flow_non_us_indust…"
      ]
     },
     "metadata": {},
     "output_type": "display_data"
    },
    {
     "data": {
      "application/vnd.jupyter.widget-view+json": {
       "model_id": "c00e91247883481788dbc2f7262fd0ee",
       "version_major": 2,
       "version_minor": 0
      },
      "text/plain": [
       "HBox(children=(Button(description='OK', style=ButtonStyle()), Button(description='Cancel', style=ButtonStyle()…"
      ]
     },
     "metadata": {},
     "output_type": "display_data"
    },
    {
     "name": "stdout",
     "output_type": "stream",
     "text": [
      "Financials History (Semi-Annual) was set as Data Product\n",
      "banks_global_financials_and_ratios was set as Table\n"
     ]
    }
   ],
   "source": [
    "SFTP.select_data()"
   ]
  },
  {
   "cell_type": "code",
   "execution_count": null,
   "metadata": {},
   "outputs": [],
   "source": [
    "def process_one(self,save_to=False,files = None,n_rows:int=1000):\n",
    "        \"\"\"\n",
    "        Retrieve a sample of data from a table and optionally save it to a file.\n",
    "\n",
    "        This method retrieves a sample of data from a specified table or file. If `files` is not provided, it uses\n",
    "        the default file from `self.remote_files`. It processes the files, retrieves the specified number of rows, \n",
    "        and saves the result to the specified format if `save_to` is provided.\n",
    "\n",
    "        Input Variables:\n",
    "        - `save_to` (str, optional): Format to save the sample data (default is 'CSV'). Other formats may be supported based on implementation.\n",
    "        - `files` (list, optional): List of files to process. Defaults to `self.remote_files`. If an integer is provided, it is treated as a file identifier.\n",
    "        - `n_rows` (int, optional): Number of rows to retrieve from the data (default is 1000).\n",
    "\n",
    "        Returns:\n",
    "        - Pandas DataFrame: DataFrame containing the sample of the processed data.\n",
    "\n",
    "        Notes:\n",
    "        - If `files` is None, the method will use the first file in `self.remote_files` and may trigger `select_data` if data product or table is not set.\n",
    "        - The method processes all specified files or retrieves data from them if needed.\n",
    "        - Results are saved to the file format specified by `save_to` if provided.\n",
    "\n",
    "        Example:\n",
    "            df = self.process_one(save_to='parquet', n_rows=500)\n",
    "        \"\"\"\n",
    "\n",
    "        if files is None:\n",
    "            if self._set_data_product is None or self._set_table is None:\n",
    "                self.select_data()\n",
    "            files = [self.remote_files[0]]\n",
    "        elif isinstance(files,int):\n",
    "            files = [files]    \n",
    "\n",
    "        df, files = self.process_all(files = files,num_workers=len(files))\n",
    "\n",
    "        if df is None and files is not None:\n",
    "            dfs = []\n",
    "            for file in files:\n",
    "                df  = _load_table(file)\n",
    "                dfs.append(df)\n",
    "            df = pd.concat(dfs, ignore_index=True)\n",
    "            if n_rows > 0:\n",
    "                df = df.head(n_rows)\n",
    "\n",
    "            _save_to(df,'process_one',save_to) \n",
    "        elif not df.empty and files is not None:\n",
    "            if n_rows > 0:\n",
    "                df = df.head(n_rows)\n",
    "            print(f\"Results have been saved to '{files}'\")\n",
    "        elif df.empty:  \n",
    "            print(\"No rows were retained\")  \n",
    "        return df\n",
    "    "
   ]
  },
  {
   "cell_type": "code",
   "execution_count": 7,
   "metadata": {},
   "outputs": [
    {
     "data": {
      "text/plain": [
       "'2025-01-17 13:20:17'"
      ]
     },
     "execution_count": 7,
     "metadata": {},
     "output_type": "execute_result"
    }
   ],
   "source": [
    "SFTP._time_stamp"
   ]
  },
  {
   "cell_type": "code",
   "execution_count": 10,
   "metadata": {},
   "outputs": [],
   "source": [
    "SFTP.time_period= [1998,2002]"
   ]
  },
  {
   "cell_type": "code",
   "execution_count": 11,
   "metadata": {},
   "outputs": [
    {
     "data": {
      "text/plain": [
       "[1998, 2002, 'closing_date', 'remove']"
      ]
     },
     "execution_count": 11,
     "metadata": {},
     "output_type": "execute_result"
    }
   ],
   "source": [
    "SFTP._time_period"
   ]
  },
  {
   "cell_type": "code",
   "execution_count": 7,
   "metadata": {},
   "outputs": [
    {
     "data": {
      "text/plain": [
       "'4IkCtFdHQPWbmepjtM8sAg/15ZqIkAxQbKLgW3oY7uThQ'"
      ]
     },
     "execution_count": 7,
     "metadata": {},
     "output_type": "execute_result"
    }
   ],
   "source": [
    "SFTP._remote_path"
   ]
  },
  {
   "cell_type": "code",
   "execution_count": 4,
   "metadata": {},
   "outputs": [
    {
     "name": "stdout",
     "output_type": "stream",
     "text": [
      "\n",
      "The following elements does not seem to match bvd format:['absv1315414!++++']\n",
      "The following BVD IDs were kept: ['absv1315414!++++']\n"
     ]
    },
    {
     "data": {
      "application/vnd.jupyter.widget-view+json": {
       "model_id": "dce787bb2adb47bcbe2ade212ea06eb0",
       "version_major": 2,
       "version_minor": 0
      },
      "text/plain": [
       "HTML(value='<h2>Select \"bvd\" Columns to filtrate</h2>')"
      ]
     },
     "metadata": {},
     "output_type": "display_data"
    },
    {
     "data": {
      "application/vnd.jupyter.widget-view+json": {
       "model_id": "c99260656ea74399bb91fca8a195341a",
       "version_major": 2,
       "version_minor": 0
      },
      "text/plain": [
       "HBox(children=(SelectMultiple(description='Columns: :', layout=Layout(width='2000px'), options=('bvd_id_number…"
      ]
     },
     "metadata": {},
     "output_type": "display_data"
    },
    {
     "data": {
      "application/vnd.jupyter.widget-view+json": {
       "model_id": "4ad264e629fa42bf80e809be57815f9c",
       "version_major": 2,
       "version_minor": 0
      },
      "text/plain": [
       "HBox(children=(Button(description='OK', style=ButtonStyle()), Button(description='Cancel', style=ButtonStyle()…"
      ]
     },
     "metadata": {},
     "output_type": "display_data"
    },
    {
     "name": "stdout",
     "output_type": "stream",
     "text": [
      "2 unique bvd_id numbers were detected\n",
      "The following bvd query has been created: bvd_id_number in ['absv1315414', 'absv1315414!++++']\n"
     ]
    }
   ],
   "source": [
    "SFTP.bvd_list = ['absv1315414','absv1315414!++++']"
   ]
  },
  {
   "cell_type": "code",
   "execution_count": null,
   "metadata": {},
   "outputs": [],
   "source": [
    "SFTP._bvd_list"
   ]
  },
  {
   "cell_type": "code",
   "execution_count": 4,
   "metadata": {},
   "outputs": [],
   "source": [
    "data_product = \"Detailed Financials (Monthly)\"\n",
    "table = \"orbis_monthly_industry_global_financials_and_ratios_usd\""
   ]
  },
  {
   "cell_type": "code",
   "execution_count": 8,
   "metadata": {},
   "outputs": [],
   "source": [
    "df_1 = SFTP._tables_available.query(f\"`Table` == '{table}' &  `Data Product` == '{data_product}'\")\n",
    "\n",
    "df_2 = SFTP._tables_available.query(f\"`Table`.str.contains('{table}', case=False, na=False,regex=False)\")"
   ]
  },
  {
   "cell_type": "code",
   "execution_count": 13,
   "metadata": {},
   "outputs": [
    {
     "data": {
      "text/plain": [
       "'orbis_monthly_industry_global_financials_and_ratios_usd'"
      ]
     },
     "execution_count": 13,
     "metadata": {},
     "output_type": "execute_result"
    }
   ],
   "source": [
    "#SFTP._remote_files\n",
    "\n",
    "files = [next((file for file in SFTP._remote_files if os.path.splitext(file)[0] == table), None)]\n",
    "\n",
    "os.path.splitext(files[0])[0] \n",
    "\n",
    "#df = self._tables_available.query(f\"`Table` == '{os.path.splitext(self._remote_files[0])[0] }' & `Base Directory` == '{self._remote_path}'\")"
   ]
  },
  {
   "cell_type": "code",
   "execution_count": null,
   "metadata": {},
   "outputs": [],
   "source": []
  },
  {
   "cell_type": "code",
   "execution_count": 5,
   "metadata": {},
   "outputs": [
    {
     "name": "stdout",
     "output_type": "stream",
     "text": [
      "mqO4CUwDQYW8IVCJRaJJ7Q/szEhvgCjSR23OgwRdDcrng\n",
      "['orbis_monthly_banks_global_financials_and_ratios.csv', 'orbis_monthly_banks_global_financials_and_ratios_eur.csv', 'orbis_monthly_banks_global_financials_and_ratios_usd.csv', 'orbis_monthly_industry_global_financials_and_ratios.csv', 'orbis_monthly_industry_global_financials_and_ratios_eur.csv', 'orbis_monthly_industry_global_financials_and_ratios_usd.csv', 'orbis_monthly_insurances_global_financials_and_ratios.csv', 'orbis_monthly_insurances_global_financials_and_ratios_eur.csv', 'orbis_monthly_insurances_global_financials_and_ratios_usd.csv']\n",
      "dre\n",
      "dre2\n",
      "None\n",
      "2\n",
      "3\n"
     ]
    }
   ],
   "source": [
    "SFTP.set_data_product = data_product\n",
    "SFTP.set_table = table"
   ]
  },
  {
   "cell_type": "code",
   "execution_count": 7,
   "metadata": {},
   "outputs": [
    {
     "data": {
      "text/plain": [
       "'orbis_monthly_banks_global_financials_and_ratios'"
      ]
     },
     "execution_count": 7,
     "metadata": {},
     "output_type": "execute_result"
    }
   ],
   "source": [
    "SFTP._set_table"
   ]
  },
  {
   "cell_type": "code",
   "execution_count": 8,
   "metadata": {},
   "outputs": [
    {
     "name": "stdout",
     "output_type": "stream",
     "text": [
      "['orbis_monthly_banks_global_financials_and_ratios.csv']\n"
     ]
    }
   ],
   "source": [
    "files = SFTP.remote_files\n",
    "\n",
    "files = [next((file for file in files if os.path.splitext(file)[0] == SFTP._set_table), None)]\n",
    "print(files)"
   ]
  }
 ],
 "metadata": {
  "kernelspec": {
   "display_name": "moody_datahub",
   "language": "python",
   "name": "python3"
  },
  "language_info": {
   "codemirror_mode": {
    "name": "ipython",
    "version": 3
   },
   "file_extension": ".py",
   "mimetype": "text/x-python",
   "name": "python",
   "nbconvert_exporter": "python",
   "pygments_lexer": "ipython3",
   "version": "3.11.5"
  }
 },
 "nbformat": 4,
 "nbformat_minor": 2
}
