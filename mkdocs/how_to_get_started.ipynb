{
 "cells": [
  {
   "cell_type": "markdown",
   "metadata": {},
   "source": [
    "## Download \n",
    "\n",
    "https://github.com/CBS-HPC/moody-s_datahub/blob/main/dist/moodys_datahub-0.0.1-py3-none-any.whl"
   ]
  },
  {
   "cell_type": "markdown",
   "metadata": {},
   "source": [
    "### On Windows"
   ]
  },
  {
   "cell_type": "code",
   "execution_count": null,
   "metadata": {},
   "outputs": [],
   "source": [
    "import subprocess\n",
    "\n",
    "url = \"https://github.com/CBS-HPC/moody-s_datahub/blob/main/dist/moodys_datahub-0.0.1-py3-none-any.whl\"\n",
    "output_file = \"moodys_datahub-0.0.1-py3-none-any.whl\"\n",
    "\n",
    "subprocess.run([\n",
    "    \"powershell\", \n",
    "    \"-Command\", \n",
    "    f\"Invoke-WebRequest -Uri {url} -OutFile {output_file}\"\n",
    "])"
   ]
  },
  {
   "cell_type": "markdown",
   "metadata": {},
   "source": [
    "### On Linux"
   ]
  },
  {
   "cell_type": "code",
   "execution_count": null,
   "metadata": {},
   "outputs": [],
   "source": [
    "!curl -s -L -o moodys_datahub-0.0.1-py3-none-any.whl https://github.com/CBS-HPC/moody-s_datahub/blob/main/dist/moodys_datahub-0.0.1-py3-none-any.whl "
   ]
  },
  {
   "cell_type": "markdown",
   "metadata": {},
   "source": [
    "## Installation\n",
    "\n",
    "Install the package \"orbis-0.0.1-py3-none-any.whl\" or \"orbis-0.0.1.tar.gz\" using pip:\n"
   ]
  },
  {
   "cell_type": "code",
   "execution_count": null,
   "metadata": {
    "vscode": {
     "languageId": "shellscript"
    }
   },
   "outputs": [],
   "source": [
    "pip install moodys_datahub-0.0.1-py3-none-any.whl"
   ]
  },
  {
   "cell_type": "markdown",
   "metadata": {},
   "source": [
    "## Usage"
   ]
  },
  {
   "cell_type": "code",
   "execution_count": 1,
   "metadata": {},
   "outputs": [],
   "source": [
    "from moodys_datahub.tools import *"
   ]
  },
  {
   "cell_type": "markdown",
   "metadata": {},
   "source": [
    "### Connect to SFTP server using SSH key."
   ]
  },
  {
   "cell_type": "code",
   "execution_count": 2,
   "metadata": {},
   "outputs": [],
   "source": [
    "# Connects to default CBS SFTP server\n",
    "\n",
    "SFTP = Sftp(privatekey=\"user_provided-ssh-key.pem\")\n",
    "\n",
    "# Connects to custom SFTP server\n",
    "SFTP = Sftp(hostname = \"example.com\", username = \"username\", port = 22,privatekey=\"user_provided-ssh-key.pem\") "
   ]
  },
  {
   "cell_type": "markdown",
   "metadata": {},
   "source": [
    "### Select Data Product and Table"
   ]
  },
  {
   "cell_type": "code",
   "execution_count": 3,
   "metadata": {},
   "outputs": [
    {
     "name": "stdout",
     "output_type": "stream",
     "text": [
      "Retrieving Data Product overview from SFTP..wait a moment\n"
     ]
    },
    {
     "ename": "SSHException",
     "evalue": "Unable to connect to example.com: [WinError 10060] Et forsøg på at oprette forbindelse mislykkedes, fordi den part, der havde oprettet forbindelse, ikke svarede korrekt efter en periode, eller en oprettet forbindelse blev afbrudt, fordi værten ikke svarede",
     "output_type": "error",
     "traceback": [
      "\u001b[1;31m---------------------------------------------------------------------------\u001b[0m",
      "\u001b[1;31mSSHException\u001b[0m                              Traceback (most recent call last)",
      "Cell \u001b[1;32mIn[3], line 1\u001b[0m\n\u001b[1;32m----> 1\u001b[0m \u001b[43mSFTP\u001b[49m\u001b[38;5;241;43m.\u001b[39;49m\u001b[43mselect_data\u001b[49m\u001b[43m(\u001b[49m\u001b[43m)\u001b[49m\n",
      "File \u001b[1;32mc:\\Users\\kgp.lib\\Anaconda3\\envs\\orbis\\Lib\\site-packages\\orbis\\tools.py:567\u001b[0m, in \u001b[0;36mSftp.select_data\u001b[1;34m(self)\u001b[0m\n\u001b[0;32m    564\u001b[0m     \u001b[38;5;28mprint\u001b[39m(\u001b[38;5;124mf\u001b[39m\u001b[38;5;124m\"\u001b[39m\u001b[38;5;132;01m{\u001b[39;00m\u001b[38;5;28mself\u001b[39m\u001b[38;5;241m.\u001b[39mset_table\u001b[38;5;132;01m}\u001b[39;00m\u001b[38;5;124m was set as Table\u001b[39m\u001b[38;5;124m\"\u001b[39m)\n\u001b[0;32m    566\u001b[0m \u001b[38;5;28;01mif\u001b[39;00m \u001b[38;5;28mself\u001b[39m\u001b[38;5;241m.\u001b[39m_tables_available \u001b[38;5;129;01mis\u001b[39;00m \u001b[38;5;28;01mNone\u001b[39;00m \u001b[38;5;129;01mand\u001b[39;00m \u001b[38;5;28mself\u001b[39m\u001b[38;5;241m.\u001b[39m_tables_backup \u001b[38;5;129;01mis\u001b[39;00m \u001b[38;5;28;01mNone\u001b[39;00m:\n\u001b[1;32m--> 567\u001b[0m         \u001b[38;5;28;43mself\u001b[39;49m\u001b[38;5;241;43m.\u001b[39;49m\u001b[43mtables_available\u001b[49m\u001b[43m(\u001b[49m\u001b[43msave_to\u001b[49m\u001b[38;5;241;43m=\u001b[39;49m\u001b[38;5;28;43;01mFalse\u001b[39;49;00m\u001b[43m)\u001b[49m\n\u001b[0;32m    569\u001b[0m asyncio\u001b[38;5;241m.\u001b[39mensure_future(f(\u001b[38;5;28mself\u001b[39m))\n",
      "File \u001b[1;32mc:\\Users\\kgp.lib\\Anaconda3\\envs\\orbis\\Lib\\site-packages\\orbis\\tools.py:819\u001b[0m, in \u001b[0;36mSftp.tables_available\u001b[1;34m(self, save_to, reset)\u001b[0m\n\u001b[0;32m    806\u001b[0m \u001b[38;5;250m\u001b[39m\u001b[38;5;124;03m\"\"\"\u001b[39;00m\n\u001b[0;32m    807\u001b[0m \u001b[38;5;124;03mRetrieve available SFTP data products and tables and save them to a file.\u001b[39;00m\n\u001b[0;32m    808\u001b[0m \n\u001b[1;32m   (...)\u001b[0m\n\u001b[0;32m    815\u001b[0m \u001b[38;5;124;03m- Pandas DataFrame with the available SFTP data products and tables.\u001b[39;00m\n\u001b[0;32m    816\u001b[0m \u001b[38;5;124;03m\"\"\"\u001b[39;00m\n\u001b[0;32m    818\u001b[0m \u001b[38;5;28;01mif\u001b[39;00m \u001b[38;5;28mself\u001b[39m\u001b[38;5;241m.\u001b[39m_tables_available \u001b[38;5;129;01mis\u001b[39;00m \u001b[38;5;28;01mNone\u001b[39;00m \u001b[38;5;129;01mand\u001b[39;00m \u001b[38;5;28mself\u001b[39m\u001b[38;5;241m.\u001b[39m_tables_backup \u001b[38;5;129;01mis\u001b[39;00m \u001b[38;5;28;01mNone\u001b[39;00m:\n\u001b[1;32m--> 819\u001b[0m    \u001b[38;5;28mself\u001b[39m\u001b[38;5;241m.\u001b[39m_tables_available \u001b[38;5;241m=\u001b[39m \u001b[38;5;28;43mself\u001b[39;49m\u001b[38;5;241;43m.\u001b[39;49m\u001b[43m_table_overview\u001b[49m\u001b[43m(\u001b[49m\u001b[43m)\u001b[49m\n\u001b[0;32m    820\u001b[0m    \u001b[38;5;28mself\u001b[39m\u001b[38;5;241m.\u001b[39m_tables_backup \u001b[38;5;241m=\u001b[39m \u001b[38;5;28mself\u001b[39m\u001b[38;5;241m.\u001b[39m_tables_available \n\u001b[0;32m    821\u001b[0m \u001b[38;5;28;01melif\u001b[39;00m reset:\n",
      "File \u001b[1;32mc:\\Users\\kgp.lib\\Anaconda3\\envs\\orbis\\Lib\\site-packages\\orbis\\tools.py:1011\u001b[0m, in \u001b[0;36mSftp._table_overview\u001b[1;34m(self, product_overview)\u001b[0m\n\u001b[0;32m   1008\u001b[0m \u001b[38;5;28;01mif\u001b[39;00m product_overview \u001b[38;5;129;01mis\u001b[39;00m \u001b[38;5;28;01mNone\u001b[39;00m:\n\u001b[0;32m   1009\u001b[0m     product_overview \u001b[38;5;241m=\u001b[39m_table_names()\n\u001b[1;32m-> 1011\u001b[0m \u001b[38;5;28;01mwith\u001b[39;00m \u001b[38;5;28;43mself\u001b[39;49m\u001b[38;5;241;43m.\u001b[39;49m\u001b[43mconnect\u001b[49m\u001b[43m(\u001b[49m\u001b[43m)\u001b[49m \u001b[38;5;28;01mas\u001b[39;00m sftp:\n\u001b[0;32m   1012\u001b[0m     exports \u001b[38;5;241m=\u001b[39m sftp\u001b[38;5;241m.\u001b[39mlistdir()\n\u001b[0;32m   1013\u001b[0m     newest_exports \u001b[38;5;241m=\u001b[39m []\n",
      "File \u001b[1;32mc:\\Users\\kgp.lib\\Anaconda3\\envs\\orbis\\Lib\\site-packages\\orbis\\tools.py:553\u001b[0m, in \u001b[0;36mSftp.connect\u001b[1;34m(self)\u001b[0m\n\u001b[0;32m    543\u001b[0m \u001b[38;5;28;01mdef\u001b[39;00m \u001b[38;5;21mconnect\u001b[39m(\u001b[38;5;28mself\u001b[39m):\n\u001b[0;32m    544\u001b[0m \u001b[38;5;250m    \u001b[39m\u001b[38;5;124;03m\"\"\"\u001b[39;00m\n\u001b[0;32m    545\u001b[0m \u001b[38;5;124;03m    Establish an SFTP connection.\u001b[39;00m\n\u001b[0;32m    546\u001b[0m \n\u001b[1;32m   (...)\u001b[0m\n\u001b[0;32m    551\u001b[0m \u001b[38;5;124;03m    - SFTP connection object.\u001b[39;00m\n\u001b[0;32m    552\u001b[0m \u001b[38;5;124;03m    \"\"\"\u001b[39;00m\n\u001b[1;32m--> 553\u001b[0m     sftp \u001b[38;5;241m=\u001b[39m \u001b[43mpysftp\u001b[49m\u001b[38;5;241;43m.\u001b[39;49m\u001b[43mConnection\u001b[49m\u001b[43m(\u001b[49m\u001b[43mhost\u001b[49m\u001b[38;5;241;43m=\u001b[39;49m\u001b[38;5;28;43mself\u001b[39;49m\u001b[38;5;241;43m.\u001b[39;49m\u001b[43mhostname\u001b[49m\u001b[43m \u001b[49m\u001b[43m,\u001b[49m\u001b[43m \u001b[49m\u001b[43musername\u001b[49m\u001b[38;5;241;43m=\u001b[39;49m\u001b[38;5;28;43mself\u001b[39;49m\u001b[38;5;241;43m.\u001b[39;49m\u001b[43musername\u001b[49m\u001b[43m \u001b[49m\u001b[43m,\u001b[49m\u001b[43mport\u001b[49m\u001b[43m \u001b[49m\u001b[38;5;241;43m=\u001b[39;49m\u001b[43m \u001b[49m\u001b[38;5;28;43mself\u001b[39;49m\u001b[38;5;241;43m.\u001b[39;49m\u001b[43mport\u001b[49m\u001b[43m \u001b[49m\u001b[43m,\u001b[49m\u001b[43mprivate_key\u001b[49m\u001b[38;5;241;43m=\u001b[39;49m\u001b[38;5;28;43mself\u001b[39;49m\u001b[38;5;241;43m.\u001b[39;49m\u001b[43mprivatekey\u001b[49m\u001b[43m,\u001b[49m\u001b[43m \u001b[49m\u001b[43mcnopts\u001b[49m\u001b[38;5;241;43m=\u001b[39;49m\u001b[38;5;28;43mself\u001b[39;49m\u001b[38;5;241;43m.\u001b[39;49m\u001b[43m_cnopts\u001b[49m\u001b[43m)\u001b[49m\n\u001b[0;32m    554\u001b[0m     \u001b[38;5;28;01mreturn\u001b[39;00m sftp\n",
      "File \u001b[1;32mc:\\Users\\kgp.lib\\Anaconda3\\envs\\orbis\\Lib\\site-packages\\pysftp\\__init__.py:140\u001b[0m, in \u001b[0;36mConnection.__init__\u001b[1;34m(self, host, username, private_key, password, port, private_key_pass, ciphers, log, cnopts, default_path)\u001b[0m\n\u001b[0;32m    138\u001b[0m \u001b[38;5;66;03m# Begin the SSH transport.\u001b[39;00m\n\u001b[0;32m    139\u001b[0m \u001b[38;5;28mself\u001b[39m\u001b[38;5;241m.\u001b[39m_transport \u001b[38;5;241m=\u001b[39m \u001b[38;5;28;01mNone\u001b[39;00m\n\u001b[1;32m--> 140\u001b[0m \u001b[38;5;28;43mself\u001b[39;49m\u001b[38;5;241;43m.\u001b[39;49m\u001b[43m_start_transport\u001b[49m\u001b[43m(\u001b[49m\u001b[43mhost\u001b[49m\u001b[43m,\u001b[49m\u001b[43m \u001b[49m\u001b[43mport\u001b[49m\u001b[43m)\u001b[49m\n\u001b[0;32m    141\u001b[0m \u001b[38;5;28mself\u001b[39m\u001b[38;5;241m.\u001b[39m_transport\u001b[38;5;241m.\u001b[39muse_compression(\u001b[38;5;28mself\u001b[39m\u001b[38;5;241m.\u001b[39m_cnopts\u001b[38;5;241m.\u001b[39mcompression)\n\u001b[0;32m    142\u001b[0m \u001b[38;5;28mself\u001b[39m\u001b[38;5;241m.\u001b[39m_set_authentication(password, private_key, private_key_pass)\n",
      "File \u001b[1;32mc:\\Users\\kgp.lib\\Anaconda3\\envs\\orbis\\Lib\\site-packages\\pysftp\\__init__.py:176\u001b[0m, in \u001b[0;36mConnection._start_transport\u001b[1;34m(self, host, port)\u001b[0m\n\u001b[0;32m    174\u001b[0m \u001b[38;5;250m\u001b[39m\u001b[38;5;124;03m'''start the transport and set the ciphers if specified.'''\u001b[39;00m\n\u001b[0;32m    175\u001b[0m \u001b[38;5;28;01mtry\u001b[39;00m:\n\u001b[1;32m--> 176\u001b[0m     \u001b[38;5;28mself\u001b[39m\u001b[38;5;241m.\u001b[39m_transport \u001b[38;5;241m=\u001b[39m \u001b[43mparamiko\u001b[49m\u001b[38;5;241;43m.\u001b[39;49m\u001b[43mTransport\u001b[49m\u001b[43m(\u001b[49m\u001b[43m(\u001b[49m\u001b[43mhost\u001b[49m\u001b[43m,\u001b[49m\u001b[43m \u001b[49m\u001b[43mport\u001b[49m\u001b[43m)\u001b[49m\u001b[43m)\u001b[49m\n\u001b[0;32m    177\u001b[0m     \u001b[38;5;66;03m# Set security ciphers if set\u001b[39;00m\n\u001b[0;32m    178\u001b[0m     \u001b[38;5;28;01mif\u001b[39;00m \u001b[38;5;28mself\u001b[39m\u001b[38;5;241m.\u001b[39m_cnopts\u001b[38;5;241m.\u001b[39mciphers \u001b[38;5;129;01mis\u001b[39;00m \u001b[38;5;129;01mnot\u001b[39;00m \u001b[38;5;28;01mNone\u001b[39;00m:\n",
      "File \u001b[1;32mc:\\Users\\kgp.lib\\Anaconda3\\envs\\orbis\\Lib\\site-packages\\paramiko\\transport.py:448\u001b[0m, in \u001b[0;36mTransport.__init__\u001b[1;34m(self, sock, default_window_size, default_max_packet_size, gss_kex, gss_deleg_creds, disabled_algorithms, server_sig_algs)\u001b[0m\n\u001b[0;32m    446\u001b[0m                 \u001b[38;5;28;01mbreak\u001b[39;00m\n\u001b[0;32m    447\u001b[0m     \u001b[38;5;28;01melse\u001b[39;00m:\n\u001b[1;32m--> 448\u001b[0m         \u001b[38;5;28;01mraise\u001b[39;00m SSHException(\n\u001b[0;32m    449\u001b[0m             \u001b[38;5;124m\"\u001b[39m\u001b[38;5;124mUnable to connect to \u001b[39m\u001b[38;5;132;01m{}\u001b[39;00m\u001b[38;5;124m: \u001b[39m\u001b[38;5;132;01m{}\u001b[39;00m\u001b[38;5;124m\"\u001b[39m\u001b[38;5;241m.\u001b[39mformat(hostname, reason)\n\u001b[0;32m    450\u001b[0m         )\n\u001b[0;32m    451\u001b[0m \u001b[38;5;66;03m# okay, normal socket-ish flow here...\u001b[39;00m\n\u001b[0;32m    452\u001b[0m threading\u001b[38;5;241m.\u001b[39mThread\u001b[38;5;241m.\u001b[39m\u001b[38;5;21m__init__\u001b[39m(\u001b[38;5;28mself\u001b[39m)\n",
      "\u001b[1;31mSSHException\u001b[0m: Unable to connect to example.com: [WinError 10060] Et forsøg på at oprette forbindelse mislykkedes, fordi den part, der havde oprettet forbindelse, ikke svarede korrekt efter en periode, eller en oprettet forbindelse blev afbrudt, fordi værten ikke svarede"
     ]
    }
   ],
   "source": [
    "SFTP.select_data()"
   ]
  },
  {
   "cell_type": "markdown",
   "metadata": {},
   "source": [
    "### BVD Filter"
   ]
  },
  {
   "cell_type": "code",
   "execution_count": null,
   "metadata": {},
   "outputs": [],
   "source": [
    "# Text file\n",
    "SFTP.bvd_list = 'bvd_numbers.txt'\n",
    "\n",
    "# Excel file - Will search through columns for relevant bvd formats\n",
    "SFTP.bvd_list = 'bvd_numbers.xlsx'\n",
    "\n",
    "# Country filter\n",
    "SFTP.bvd_list = ['US','DK','CN']\n",
    "\n",
    "# bvd number lists\n",
    "SFTP.bvd_list = ['DK28505116','SE5567031702','SE5565475489','NO934382404','SE5566674205','DK55828415']"
   ]
  },
  {
   "cell_type": "markdown",
   "metadata": {},
   "source": [
    "### Time Period Filter"
   ]
  },
  {
   "cell_type": "code",
   "execution_count": null,
   "metadata": {},
   "outputs": [],
   "source": [
    "SFTP.time_period = [1998,2005]"
   ]
  },
  {
   "cell_type": "markdown",
   "metadata": {},
   "source": [
    "### Column Filter"
   ]
  },
  {
   "cell_type": "code",
   "execution_count": null,
   "metadata": {},
   "outputs": [],
   "source": [
    "SFTP.select_columns()"
   ]
  },
  {
   "cell_type": "markdown",
   "metadata": {},
   "source": [
    "### Test the selected Filters"
   ]
  },
  {
   "cell_type": "code",
   "execution_count": null,
   "metadata": {},
   "outputs": [],
   "source": [
    "test_sample = SFTP.process_one(save_to='csv')"
   ]
  },
  {
   "cell_type": "markdown",
   "metadata": {},
   "source": [
    "### Batch Process for on all files "
   ]
  },
  {
   "cell_type": "code",
   "execution_count": null,
   "metadata": {},
   "outputs": [],
   "source": [
    "results = SFTP.process_all()"
   ]
  },
  {
   "cell_type": "markdown",
   "metadata": {},
   "source": [
    "### Search in Data Dictionary for variables/columns"
   ]
  },
  {
   "cell_type": "code",
   "execution_count": 6,
   "metadata": {},
   "outputs": [
    {
     "data": {
      "text/html": [
       "<div>\n",
       "<style scoped>\n",
       "    .dataframe tbody tr th:only-of-type {\n",
       "        vertical-align: middle;\n",
       "    }\n",
       "\n",
       "    .dataframe tbody tr th {\n",
       "        vertical-align: top;\n",
       "    }\n",
       "\n",
       "    .dataframe thead th {\n",
       "        text-align: right;\n",
       "    }\n",
       "</style>\n",
       "<table border=\"1\" class=\"dataframe\">\n",
       "  <thead>\n",
       "    <tr style=\"text-align: right;\">\n",
       "      <th></th>\n",
       "      <th>Unnamed: 0</th>\n",
       "      <th>Data Product</th>\n",
       "      <th>Table</th>\n",
       "      <th>Column</th>\n",
       "      <th>Definition</th>\n",
       "    </tr>\n",
       "  </thead>\n",
       "  <tbody>\n",
       "    <tr>\n",
       "      <th>1546</th>\n",
       "      <td>1547</td>\n",
       "      <td>Key Ownership (Monthly)</td>\n",
       "      <td>basic_shareholder_info</td>\n",
       "      <td>no_of_recorded_subsidiaries</td>\n",
       "      <td>This field indicates the number of subsidiarie...</td>\n",
       "    </tr>\n",
       "  </tbody>\n",
       "</table>\n",
       "</div>"
      ],
      "text/plain": [
       "      Unnamed: 0             Data Product                   Table  \\\n",
       "1546        1547  Key Ownership (Monthly)  basic_shareholder_info   \n",
       "\n",
       "                           Column  \\\n",
       "1546  no_of_recorded_subsidiaries   \n",
       "\n",
       "                                             Definition  \n",
       "1546  This field indicates the number of subsidiarie...  "
      ]
     },
     "execution_count": 6,
     "metadata": {},
     "output_type": "execute_result"
    }
   ],
   "source": [
    "search_dict = SFTP.search_dictionary(save_to='xlsx', search_word='total_asset')\n",
    "\n",
    "search_dict = SFTP.search_dictionary(search_word='subsidiaries',letters_only=True,search_cols= { 'Data Product': False,'Table': False,'Column': True,'Definition': False })"
   ]
  },
  {
   "cell_type": "markdown",
   "metadata": {},
   "source": [
    "### Create a new SFTP Object"
   ]
  },
  {
   "cell_type": "code",
   "execution_count": 6,
   "metadata": {},
   "outputs": [
    {
     "data": {
      "application/vnd.jupyter.widget-view+json": {
       "model_id": "ace0d4a3c85640a3ba46ae819e5bf1fe",
       "version_major": 2,
       "version_minor": 0
      },
      "text/plain": [
       "Dropdown(description='Data Product:', options=('Listed Financials (Monthly)', 'Interim Financials (Monthly)', …"
      ]
     },
     "metadata": {},
     "output_type": "display_data"
    },
    {
     "data": {
      "application/vnd.jupyter.widget-view+json": {
       "model_id": "48af13c07fcb484697d3d6242904607b",
       "version_major": 2,
       "version_minor": 0
      },
      "text/plain": [
       "Dropdown(description='Table:', disabled=True, options=(), value=None)"
      ]
     },
     "metadata": {},
     "output_type": "display_data"
    },
    {
     "data": {
      "application/vnd.jupyter.widget-view+json": {
       "model_id": "8a64b9643728458885f077ff629997cc",
       "version_major": 2,
       "version_minor": 0
      },
      "text/plain": [
       "Button(description='OK', disabled=True, style=ButtonStyle())"
      ]
     },
     "metadata": {},
     "output_type": "display_data"
    },
    {
     "data": {
      "application/vnd.jupyter.widget-view+json": {
       "model_id": "e7900ce2a85c44a2af8b6ca65c1b6593",
       "version_major": 2,
       "version_minor": 0
      },
      "text/plain": [
       "Button(description='Cancel', style=ButtonStyle())"
      ]
     },
     "metadata": {},
     "output_type": "display_data"
    }
   ],
   "source": [
    "SFTP_2 = SFTP.copy_obj()"
   ]
  },
  {
   "cell_type": "markdown",
   "metadata": {},
   "source": [
    "### Create Filters using the pandas.query() method"
   ]
  },
  {
   "cell_type": "code",
   "execution_count": null,
   "metadata": {},
   "outputs": [],
   "source": [
    "\n",
    "# Example 1\n",
    "SFTP.query =\"total_assets > 1000000000\"\n",
    "query_1 = SFTP.process_all() \n",
    "\n",
    "# Example 2\n",
    "query_args = ['CN9360885371','CN9360885372','CN9360885373']\n",
    "SFTP.query=f\"bvd_id_number in {query_args}\"\n",
    "query_2 = SFTP.process_all() \n",
    "\n",
    "# Example 3\n",
    "query_args = 'DK'\n",
    "SFTP.query = f\"bvd_id_number.str.startswith('{query_args}', na=False)\"\n",
    "query_3 = SFTP.process_all() \n",
    "\n",
    "# Example 4\n",
    "bvd_numbers = ['CN9360885371','CN9360885372','CN9360885373']\n",
    "country_code = 'CN'\n",
    "SFTP.query =f\"bvd_id_number in {bvd_numbers} | (total_assets > 1000000000 & bvd_id_number.str.startswith('{country_code}', na=False))\"\n",
    "query_4 = SFTP.process_all() "
   ]
  },
  {
   "cell_type": "markdown",
   "metadata": {},
   "source": [
    "### Create Filters using custom functions"
   ]
  },
  {
   "cell_type": "code",
   "execution_count": null,
   "metadata": {},
   "outputs": [],
   "source": [
    "bvd_id_numbers = ['CN9360885371','CN9360885372','CN9360885373']\n",
    "column_filter = ['bvd_id_number','fixed_assets','original_currency','total_assets']  # Example column filter\n",
    "\n",
    "def bvd_filter(df,bvd_id_numbers=None,column_filter=None,specific_value=None,specific_col=None):\n",
    "\n",
    "     # Check if specific_col is a column in the DataFrame\n",
    "    if specific_col is not None and specific_col not in df.columns:\n",
    "        raise ValueError(f\"{specific_col} is not a column in the DataFrame.\")\n",
    "\n",
    "    if specific_value is not None:\n",
    "                df = df[df[specific_col] > specific_value]\n",
    "\n",
    "    if bvd_id_numbers:\n",
    "        if isinstance(bvd_id_numbers, list):\n",
    "            row_filter = df['bvd_id_number'].isin(bvd_id_numbers)\n",
    "        elif isinstance(bvd_id_numbers, str):\n",
    "            row_filter  = df['bvd_id_number'].str.startswith(bvd_id_numbers)\n",
    "        else:\n",
    "            raise ValueError(\"bvd_id_numbers must be a list or a string\")\n",
    "                \n",
    "        if row_filter.any():\n",
    "            df = df.loc[row_filter]\n",
    "        else: \n",
    "           df = None \n",
    "\n",
    "    if df is not None and column_filter:\n",
    "        df = df[column_filter]\n",
    "\n",
    "    return df\n",
    "\n",
    "SFTP.query = bvd_filter\n",
    "SFTP.query_args = [bvd_id_numbers,column_filter,1000000000,'total_assets']\n",
    "query_5 = SFTP.process_all() "
   ]
  },
  {
   "cell_type": "markdown",
   "metadata": {},
   "source": [
    "### Other Options"
   ]
  },
  {
   "cell_type": "code",
   "execution_count": null,
   "metadata": {},
   "outputs": [],
   "source": [
    "SFTP.delete_files = False # True/False: To delete the downloaded files post curation (to prevent very large amounts of data being stored locally)\n",
    "SFTP.concat_files = True # True/False: To concatenate the curated data product sub files into a single output file.\n",
    "SFTP.output_format =  [\".xlsx\",\".csv\",\".parquet\"] # [\".csv\",\"xlsx\",\".parquet\",\".pickle\",\".dta\"] # Defining output formats.\n",
    "SFTP.file_size_mb = 100 # Cut-off size for when to split output files into multiple files."
   ]
  },
  {
   "cell_type": "markdown",
   "metadata": {},
   "source": [
    "### Other functions"
   ]
  },
  {
   "cell_type": "code",
   "execution_count": 14,
   "metadata": {},
   "outputs": [
    {
     "name": "stdout",
     "output_type": "stream",
     "text": [
      "The folloiwng query was executed:`Column`.str.contains('total_asset', case=False, na=False,regex=False) | `Definition`.str.contains('total_asset', case=False, na=False,regex=False)\n",
      "Results have been saved to 'orbis_dict_search_20240704_092243.xlsx'\n"
     ]
    }
   ],
   "source": [
    "search_dict = SFTP.search_dictionary(save_to='xlsx', search_word='total_asset')\n",
    "\n",
    "# Create a new SFTP Object\n",
    "SFTP_2 = SFTP.copy_obj()\n",
    "\n",
    "# Search for country codes\n",
    "SFTP.search_country_codes(search_word='congo')"
   ]
  },
  {
   "cell_type": "markdown",
   "metadata": {},
   "source": []
  },
  {
   "cell_type": "markdown",
   "metadata": {},
   "source": [
    "# Matching bvd_numbers from Identifiers dataset"
   ]
  },
  {
   "cell_type": "code",
   "execution_count": 4,
   "metadata": {},
   "outputs": [],
   "source": [
    "SFTP.delete_files = False # True/False: To delete the downloaded files post curation (to prevent very large amounts of data being stored locally)\n",
    "SFTP.concat_files = True # True/False: To concatenate the curated data product sub files into a single output file.\n",
    "SFTP.output_format =  [\".csv\"] # Defining output formats.\n",
    "SFTP.file_size_mb = 300 # Cut-off size for when to split output files into multiple files."
   ]
  },
  {
   "cell_type": "markdown",
   "metadata": {},
   "source": [
    "## company name -> bvd_numbers (using fuzzy match algoritm)"
   ]
  },
  {
   "cell_type": "code",
   "execution_count": 13,
   "metadata": {},
   "outputs": [
    {
     "name": "stdout",
     "output_type": "stream",
     "text": [
      "Remote path is valid:'IvdS14LwRxucymVszEBE3Q/unscheduled/giin'\n",
      "Folder 'company_names' created.\n"
     ]
    }
   ],
   "source": [
    "SFTP.remote_path = \"IvdS14LwRxucymVszEBE3Q/unscheduled/giin\"\n",
    "SFTP.local_path = \"company_names\" \n",
    "df_names = SFTP.process_all(SFTP.remote_files,destination='company_name',select_cols= ['bvd_id_number','name_as_in_the_fatca_register_']) # Only loading the columns defined in filter_col"
   ]
  },
  {
   "cell_type": "code",
   "execution_count": null,
   "metadata": {},
   "outputs": [],
   "source": [
    "# Example usage:\n",
    "input_strings = [\"Bank of America\", \"AXA2\", \"JPMorgan Chase\"]\n",
    "extended_list = input_strings * 100\n",
    "match_col = 'name_as_in_the_fatca_register_'\n",
    "return_col = 'bvd_id_number'\n",
    "\n",
    "str_remove = [\"GMBH\",\" - Branch\",\"CO.\",\"LTD\",\"Ltd\",\"Limited\", \"GMBH\",\"A/S\"]\n",
    "\n",
    "result_df = fuzzy_match(input_strings=extended_list,df=df_names,num_workers=-1, match_column=match_col, return_column=return_col,cut_off=50,remove_str=str_remove)\n",
    "\n",
    "result_df.head()"
   ]
  },
  {
   "cell_type": "markdown",
   "metadata": {},
   "source": [
    "## national id numbers -> bvd_numbers "
   ]
  },
  {
   "cell_type": "code",
   "execution_count": 5,
   "metadata": {},
   "outputs": [
    {
     "name": "stdout",
     "output_type": "stream",
     "text": [
      "Folder 'Identifiers' already exists.\n",
      "Remote path is valid:'IvdS14LwRxucymVszEBE3Q/unscheduled/identifiers'\n"
     ]
    }
   ],
   "source": [
    "SFTP.local_path = \"Identifiers\"\n",
    "SFTP.remote_path = \"IvdS14LwRxucymVszEBE3Q/unscheduled/identifiers\"\n",
    "\n",
    "# Below is just to collect 1000 random 'national_id_numbers'\n",
    "SFTP.output_format =  None # Defining output formats.\n",
    "df_id_number = SFTP.process_all(files =SFTP.remote_files[0:4],num_workers=-1,destination='identifiers',select_cols= ['bvd_id_number','national_id_number'])\n",
    "national_id_number = random_sample = df_id_number['national_id_number'].sample(n=1000, random_state=42)\n"
   ]
  },
  {
   "cell_type": "code",
   "execution_count": 6,
   "metadata": {},
   "outputs": [
    {
     "data": {
      "text/plain": [
       "True"
      ]
     },
     "execution_count": 6,
     "metadata": {},
     "output_type": "execute_result"
    }
   ],
   "source": [
    "SFTP.output_format =  [\".csv\"] # Defining output formats.\n",
    "\n",
    "# Define query statement\n",
    "query_args = list(national_id_number.dropna())\n",
    "query_str =f\"national_id_number in {query_args}\"\n",
    "\n",
    "# Execute\n",
    "query_id_numbers = SFTP.process_all(SFTP.remote_files[0:4],num_workers = -1,destination =\"query_2\",select_cols = ['bvd_id_number','national_id_number'],query = query_str,query_args=query_args) \n",
    "\n",
    "# Sanity check \n",
    "query_id_numbers['national_id_number'].isin(query_args).all()"
   ]
  }
 ],
 "metadata": {
  "kernelspec": {
   "display_name": "Python 3 (ipykernel)",
   "language": "python",
   "name": "python3"
  },
  "language_info": {
   "codemirror_mode": {
    "name": "ipython",
    "version": 3
   },
   "file_extension": ".py",
   "mimetype": "text/x-python",
   "name": "python",
   "nbconvert_exporter": "python",
   "pygments_lexer": "ipython3",
   "version": "3.9.13"
  }
 },
 "nbformat": 4,
 "nbformat_minor": 4
}
