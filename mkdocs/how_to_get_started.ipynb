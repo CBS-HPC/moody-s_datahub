{
 "cells": [
  {
   "cell_type": "markdown",
   "metadata": {},
   "source": [
    "## Download \n",
    "\n",
    "**This jupyter notebook can be downloaded from this link below:**\n",
    "\n",
    "https://github.com/CBS-HPC/moody-s_datahub/blob/main/mkdocs/how_to_get_started.ipynb\n",
    "\n",
    "\n",
    "**The pip wheel can be manually downloaded using the link below:**\n",
    "\n",
    "https://github.com/CBS-HPC/moody-s_datahub/blob/main/dist/moodys_datahub-0.0.1-py3-none-any.whl\n",
    "\n",
    "\n",
    "Or directly to the working folder by running the line below:"
   ]
  },
  {
   "cell_type": "code",
   "execution_count": 1,
   "metadata": {},
   "outputs": [],
   "source": [
    "!curl -s -L -o moodys_datahub-0.0.1-py3-none-any.whl https://github.com/CBS-HPC/moody-s_datahub/blob/main/dist/moodys_datahub-0.0.1-py3-none-any.whl "
   ]
  },
  {
   "cell_type": "markdown",
   "metadata": {},
   "source": [
    "## Installation\n",
    "\n",
    "Install the package \"orbis-0.0.1-py3-none-any.whl\" or \"orbis-0.0.1.tar.gz\" using pip:\n"
   ]
  },
  {
   "cell_type": "code",
   "execution_count": null,
   "metadata": {
    "vscode": {
     "languageId": "shellscript"
    }
   },
   "outputs": [],
   "source": [
    "pip install moodys_datahub-0.0.1-py3-none-any.whl"
   ]
  },
  {
   "cell_type": "markdown",
   "metadata": {},
   "source": [
    "## Usage"
   ]
  },
  {
   "cell_type": "code",
   "execution_count": 1,
   "metadata": {},
   "outputs": [],
   "source": [
    "from moodys_datahub.tools import *"
   ]
  },
  {
   "cell_type": "markdown",
   "metadata": {},
   "source": [
    "### Connect to SFTP server\n",
    "\n",
    "For CBS associates want to connect to the \"CBS server\" the user needs only to provide the \"privatkey\" (.pem) provided by CBS Staff.\n",
    "\n",
    "To connec to other servers the user needs to provide \"hostname\", \"username\",\"port\" and \"privatkey\"."
   ]
  },
  {
   "cell_type": "code",
   "execution_count": null,
   "metadata": {},
   "outputs": [],
   "source": [
    "# Connects to default CBS SFTP server\n",
    "SFTP = Sftp(privatekey=\"user_provided-ssh-key.pem\")\n",
    "\n",
    "# Connects to custom SFTP server\n",
    "SFTP = Sftp(hostname = \"example.com\", username = \"username\", port = 22,privatekey=\"user_provided-ssh-key.pem\",data_product_template= \"20240909_104135_data_products.csv\") "
   ]
  },
  {
   "cell_type": "markdown",
   "metadata": {},
   "source": [
    "### Select Data Product and Table\n",
    "\n",
    "Run the function below to select \"Data Product\" and \"Table\" that are available on the SFTP."
   ]
  },
  {
   "cell_type": "code",
   "execution_count": 5,
   "metadata": {},
   "outputs": [
    {
     "data": {
      "application/vnd.jupyter.widget-view+json": {
       "model_id": "5c224fbdf33a4839a0365a348a592e60",
       "version_major": 2,
       "version_minor": 0
      },
      "text/plain": [
       "HTML(value='<h2>Select Data Product and Table</h2>')"
      ]
     },
     "metadata": {},
     "output_type": "display_data"
    },
    {
     "data": {
      "application/vnd.jupyter.widget-view+json": {
       "model_id": "f06e61da106f4f14953025f22096dc52",
       "version_major": 2,
       "version_minor": 0
      },
      "text/plain": [
       "HBox(children=(Dropdown(description='Data Product:', options=('Financials History (Semi-Annual)', 'Listed Fina…"
      ]
     },
     "metadata": {},
     "output_type": "display_data"
    },
    {
     "data": {
      "application/vnd.jupyter.widget-view+json": {
       "model_id": "9d316e76c5fe4e8ab2a0ba29eb98d0d0",
       "version_major": 2,
       "version_minor": 0
      },
      "text/plain": [
       "HBox(children=(Dropdown(description='Table:', disabled=True, options=(), value=None),))"
      ]
     },
     "metadata": {},
     "output_type": "display_data"
    },
    {
     "data": {
      "application/vnd.jupyter.widget-view+json": {
       "model_id": "16f2b418a87a4814b782b775ae35ac17",
       "version_major": 2,
       "version_minor": 0
      },
      "text/plain": [
       "HBox(children=(Button(description='OK', disabled=True, style=ButtonStyle()), Button(description='Cancel', styl…"
      ]
     },
     "metadata": {},
     "output_type": "display_data"
    },
    {
     "data": {
      "application/vnd.jupyter.widget-view+json": {
       "model_id": "53853c8b74464204b180999262d6f2ab",
       "version_major": 2,
       "version_minor": 0
      },
      "text/plain": [
       "HTML(value=\"<h2>Multiple data products match 'Financials History (Semi-Annual)'. Please set right data product…"
      ]
     },
     "metadata": {},
     "output_type": "display_data"
    },
    {
     "data": {
      "application/vnd.jupyter.widget-view+json": {
       "model_id": "c8263cb4e4a040f09f994c48d8eb6615",
       "version_major": 2,
       "version_minor": 0
      },
      "text/plain": [
       "HBox(children=(Dropdown(description=\"'Financials History (Semi-Annual)': :\", options=('2DSxe98WRkCnQKLwUwIsqQ'…"
      ]
     },
     "metadata": {},
     "output_type": "display_data"
    },
    {
     "data": {
      "application/vnd.jupyter.widget-view+json": {
       "model_id": "f67250d07c8c4aee8fa91887a223b327",
       "version_major": 2,
       "version_minor": 0
      },
      "text/plain": [
       "HBox(children=(Button(description='OK', style=ButtonStyle()), Button(description='Cancel', style=ButtonStyle()…"
      ]
     },
     "metadata": {},
     "output_type": "display_data"
    }
   ],
   "source": [
    "SFTP.select_data()"
   ]
  },
  {
   "cell_type": "markdown",
   "metadata": {},
   "source": [
    "### Overview of Remote Files\n",
    "\n",
    "The \"Data Product\" and \"Table\" has been selected the associated files on the SFTP server are listed as shown below:"
   ]
  },
  {
   "cell_type": "code",
   "execution_count": null,
   "metadata": {},
   "outputs": [],
   "source": [
    "SFTP.remote_files"
   ]
  },
  {
   "cell_type": "markdown",
   "metadata": {},
   "source": [
    "### Define Options\n",
    "\n",
    "The function below allows the user to set the following options:\n",
    "\n",
    "\n",
    "**SFTP.delete_files** : Delete Files After Processing (To Prevent Large Storage Consumption - 'False' is recommeded)\n",
    "\n",
    "\n",
    "**SFTP.concat_files** : Concatenate Sub-Files into a Single Output File ('True' is Recommeded):\n",
    "\n",
    "\n",
    "**SFTP.output_format** : Select Output File Formats (More than one can be selected - '.xlsx' is not recommeded)\n",
    "\n",
    "\n",
    "**SFTP.file_size_mb** : File Size Cutoff (MB) Before Splitting into Multiple Output files (Only an approxiate)\n"
   ]
  },
  {
   "cell_type": "code",
   "execution_count": null,
   "metadata": {},
   "outputs": [],
   "source": [
    "SFTP.define_options()"
   ]
  },
  {
   "cell_type": "markdown",
   "metadata": {},
   "source": [
    "### Column Selection\n",
    "\n",
    "Select which columns (variables) to keep "
   ]
  },
  {
   "cell_type": "code",
   "execution_count": null,
   "metadata": {},
   "outputs": [],
   "source": [
    "SFTP.select_columns()"
   ]
  },
  {
   "cell_type": "markdown",
   "metadata": {},
   "source": [
    "### BVD Filter\n",
    "\n",
    "Set a \"bvd_id\" filter. This can be provided in different ways as seen below as a python list of in .txt [Link] or .xlsx[Link] format. When setting the .bvd_list the user will be prompted to select one or more \"bvd\" related columns.\n",
    "\n",
    "It can perform an extract search based on full bvd_id numbers or based on the country code that is the two starting letter of the bvd_id numbers."
   ]
  },
  {
   "cell_type": "code",
   "execution_count": null,
   "metadata": {},
   "outputs": [],
   "source": [
    "# Text file\n",
    "SFTP.bvd_list = 'bvd_numbers.txt'\n",
    "\n",
    "# Excel file - Will search through columns for relevant bvd formats\n",
    "SFTP.bvd_list = 'bvd_numbers.xlsx'\n",
    "\n",
    "# Country filter\n",
    "SFTP.bvd_list = ['US','DK','CN']\n",
    "\n",
    "# bvd number lists\n",
    "SFTP.bvd_list = ['DK28505116','SE5567031702','SE5565475489','NO934382404','SE5566674205','DK55828415']"
   ]
  },
  {
   "cell_type": "markdown",
   "metadata": {},
   "source": [
    "### Time Period Filter\n",
    "\n",
    "A time periode filter can be set as seen below. Subsequently the user will be prompted to select a \"date\" column. \n",
    "\n",
    "Not all table have suitable \"date\" columns for which time periode filtration is not possible. "
   ]
  },
  {
   "cell_type": "code",
   "execution_count": null,
   "metadata": {},
   "outputs": [],
   "source": [
    "SFTP.time_period = [1998,2005]"
   ]
  },
  {
   "cell_type": "markdown",
   "metadata": {},
   "source": [
    "### Create Filters using the SFTP.query() method\n",
    "\n",
    "With the SFTP.query() method the user can create more custom filters.The method utilises pandas.query() method. A few examples are shown below:"
   ]
  },
  {
   "cell_type": "code",
   "execution_count": null,
   "metadata": {},
   "outputs": [],
   "source": [
    "# Example 1: \n",
    "SFTP.query =\"total_assets > 1000000000\"\n",
    "\n",
    "# Example 2\n",
    "query_args = ['CN9360885371','CN9360885372','CN9360885373']\n",
    "SFTP.query=f\"bvd_id_number in {query_args}\"\n",
    "\n",
    "# Example 3\n",
    "query_args = 'DK'\n",
    "SFTP.query = f\"bvd_id_number.str.startswith('{query_args}', na=False)\"\n",
    "\n",
    "# Example 4\n",
    "bvd_numbers = ['CN9360885371','CN9360885372','CN9360885373']\n",
    "country_code = 'CN'\n",
    "SFTP.query =f\"bvd_id_number in {bvd_numbers} | (total_assets > 1000000000 & bvd_id_number.str.startswith('{country_code}', na=False))\""
   ]
  },
  {
   "cell_type": "markdown",
   "metadata": {},
   "source": [
    "### Create Filters using custom functions\n",
    "\n",
    "It is also possible to defined SFTP.queryprovide a custom functionWith the pandas.query() method the user can create more custom filters. Below are show four examples of how to setup a query string. "
   ]
  },
  {
   "cell_type": "code",
   "execution_count": null,
   "metadata": {},
   "outputs": [],
   "source": [
    "bvd_id_numbers = ['CN9360885371','CN9360885372','CN9360885373']\n",
    "column_filter = ['bvd_id_number','fixed_assets','original_currency','total_assets']  # Example column filter\n",
    "\n",
    "def bvd_filter(df,bvd_id_numbers,column_filter,specific_value,specific_col):\n",
    "\n",
    "     # Check if specific_col is a column in the DataFrame\n",
    "    if specific_col is not None and specific_col not in df.columns:\n",
    "        raise ValueError(f\"{specific_col} is not a column in the DataFrame.\")\n",
    "\n",
    "    if specific_value is not None:\n",
    "                df = df[df[specific_col] > specific_value]\n",
    "\n",
    "    if bvd_id_numbers:\n",
    "        if isinstance(bvd_id_numbers, list):\n",
    "            row_filter = df['bvd_id_number'].isin(bvd_id_numbers)\n",
    "        elif isinstance(bvd_id_numbers, str):\n",
    "            row_filter  = df['bvd_id_number'].str.startswith(bvd_id_numbers)\n",
    "        else:\n",
    "            raise ValueError(\"bvd_id_numbers must be a list or a string\")\n",
    "                \n",
    "        if row_filter.any():\n",
    "            df = df.loc[row_filter]\n",
    "        else: \n",
    "           df = None \n",
    "\n",
    "    if df is not None and column_filter:\n",
    "        df = df[column_filter]\n",
    "\n",
    "    return df\n",
    "\n",
    "SFTP.query = bvd_filter\n",
    "SFTP.query_args = [bvd_id_numbers,column_filter,1000000000,'total_assets']\n"
   ]
  },
  {
   "cell_type": "markdown",
   "metadata": {},
   "source": [
    "### Test the selected Filters\n",
    "\n",
    "Before running the selected filters on all files (SFTP.remote_files) is can be a good idea to test it on a single sub-file using the function below. \n",
    "\n",
    "**It should be noted that the sub-file that is used below will not contain rows that a relevant for the defined filters.**"
   ]
  },
  {
   "cell_type": "code",
   "execution_count": null,
   "metadata": {},
   "outputs": [],
   "source": [
    "df_sample = SFTP.process_one()\n",
    "\n",
    "df_sample = SFTP.process_one(save_to = 'csv',files = SFTP.remote_files[0], n_rows = 2000)"
   ]
  },
  {
   "cell_type": "markdown",
   "metadata": {},
   "source": [
    "### Download all files before \"Batch Processing\"\n",
    "\n",
    "If working on a slower connection it may be benificial to start downloading all remote files before processing them.\n",
    "\n",
    "When the downloading process has been started \"SFTP._download_finished\" will change from a \"None\" to \"False and then \"True\" upon download completion.\n",
    "\n",
    "The function is executed asyncionsly and the user can proceed working in the jupyter notebook while it is running.\n"
   ]
  },
  {
   "cell_type": "code",
   "execution_count": null,
   "metadata": {},
   "outputs": [],
   "source": [
    "SFTP.download_all()\n",
    "\n",
    "# Define the number of workers/processors that should be utilsed. \n",
    "\n",
    "SFTP.download_all(num_workers = 12)"
   ]
  },
  {
   "cell_type": "markdown",
   "metadata": {},
   "source": [
    "### Batch Process for on all files \n",
    "\n",
    "All files can be processed using the function below. \n",
    "\n",
    "- If \"SFTP._download_finished\" is \"None\" the function also download the files. \n",
    "\n",
    "- If \"SFTP._download_finished\" is \"False\" it will wait upon the download process has been completed and \"SFTP._download_finished\" is set to \"True\". "
   ]
  },
  {
   "cell_type": "code",
   "execution_count": null,
   "metadata": {},
   "outputs": [],
   "source": [
    "\n",
    "# If no input arguments are provided it will utilise the filters that has beeen defined in the selection above.\n",
    "results = SFTP.process_all()\n",
    "\n",
    "# Input arguments can also be set manually as shown below:  \n",
    "results = SFTP.process_all(files = SFTP.remote_files, \n",
    "                            destination = \"file_name\",  \n",
    "                            num_workers = 12, \n",
    "                            select_cols = ['bvd_id_number','fixed_assets','original_currency','total_assets'],\n",
    "                            date_query = None,\n",
    "                            bvd_query = None,\n",
    "                            query = bvd_filter, \n",
    "                            query_args = [bvd_id_numbers,column_filter,1000000000,'total_assets']\n",
    "                            )\n"
   ]
  },
  {
   "cell_type": "markdown",
   "metadata": {},
   "source": [
    "### Search in Data Dictionary for variables/columns\n",
    "\n",
    "It is possible to search in the \"Data Dictionary\" for variables, keywords or topic. The \"Data Dictionary\" will be filtrated according to \"Data Product\" and \"Table\" selection."
   ]
  },
  {
   "cell_type": "code",
   "execution_count": null,
   "metadata": {},
   "outputs": [],
   "source": [
    "df_search = SFTP.search_dictionary(save_to = 'xlsx', search_word = 'total_asset')\n",
    "\n",
    "df_search = SFTP.search_dictionary(save_to = 'xlsx',\n",
    "                                    search_word = 'subsidiaries',\n",
    "                                    search_cols= { 'Data Product': False,'Table': False,'Column': True,'Definition': False },\n",
    "                                    letters_only = True,\n",
    "                                    extact_match = False,\n",
    "                                    data_product = None,\n",
    "                                    table = None,  \n",
    "                                    )"
   ]
  },
  {
   "cell_type": "markdown",
   "metadata": {},
   "source": [
    "### Search for country codes\n",
    "\n",
    "The function below can be used to find the \"bvd_id\" country codes for specific nations."
   ]
  },
  {
   "cell_type": "code",
   "execution_count": null,
   "metadata": {},
   "outputs": [],
   "source": [
    "# Search for country codes by country name\n",
    "SFTP.search_country_codes(search_word='congo')\n",
    "\n",
    "# Define columns to search in:\n",
    "\n",
    "SFTP.search_country_codes(search_word='DK', search_cols = { 'Country': False,'Code': True })"
   ]
  },
  {
   "cell_type": "markdown",
   "metadata": {},
   "source": [
    "### Find bvd_id from company names using fuzzy matching"
   ]
  },
  {
   "cell_type": "code",
   "execution_count": null,
   "metadata": {},
   "outputs": [],
   "source": [
    "companies = [\n",
    "    \"Apple Inc.\",\n",
    "    \"Microsoft Corporation\",\n",
    "    \"Amazon.com, Inc.\",\n",
    "    \"Alphabet Inc.\",\n",
    "    \"Facebook, Inc.\",\n",
    "    \"Alibaba Group\",\n",
    "    \"Samsung Electronics\",\n",
    "    \"Berkshire Hathaway Inc.\",\n",
    "    \"Tencent Holdings Limited\",\n",
    "    \"Visa Inc.\",\n",
    "    \"Johnson & Johnson\",\n",
    "    \"Walmart Inc.\",\n",
    "    \"ExxonMobil Corporation\",\n",
    "    \"Nestlé S.A.\",\n",
    "    \"Procter & Gamble Co.\",\n",
    "    \"Coca-Cola Company\",\n",
    "    \"Siemens AG\",\n",
    "    \"Toyota Motor Corporation\",\n",
    "    \"IBM Corporation\",\n",
    "    \"Pfizer Inc.\"\n",
    "]\n",
    "\n",
    "# Search for company names by adding names as list:\n",
    "best_matches = SFTP.search_company_names(names=companies)\n",
    "\n",
    "# Generate default company suffixes:\n",
    "company_suffixes = SFTP.company_suffix()\n",
    "\n",
    "# Define cut-off level and company name suffixes to remove:\n",
    "best_matches = SFTP.search_company_names(names=companies, num_workers=32,cut_off= 90.1, company_suffixes= company_suffixes)\n",
    "\n",
    "# Define own list of suffixes:\n",
    "best_matches = SFTP.search_company_names(names=companies, num_workers=32,cut_off= 90.1, company_suffixes= [\"inc\", \"incorporated\",\"ltd\",\"limited\",\"llc\",\"plc\",\"corp\",\"corporation\",\"co\",\"company\",\"llp\",\"gmbh\"])"
   ]
  },
  {
   "cell_type": "markdown",
   "metadata": {},
   "source": [
    "### Find changes in bvd_id over time"
   ]
  },
  {
   "cell_type": "code",
   "execution_count": null,
   "metadata": {},
   "outputs": [],
   "source": [
    "\n",
    "bvd_numbers = ['CN9360885371','CN9360885372','CN9360885373']\n",
    "new_ids, newest_ids,filtered_df = SFTP.search_bvd_changes(bvd_list = bvd_numbers , num_workers= -1)"
   ]
  },
  {
   "cell_type": "markdown",
   "metadata": {},
   "source": [
    "### Create a new SFTP Object\n",
    "\n",
    "The \"SFTP.copy_obj()\" function can be used to create a new SFTP object in order to process another \"Data Product\"/\"Table.\n",
    "\n",
    "- SFTP.select_data() will be prompted automatically \n",
    "- Other filters will be reset."
   ]
  },
  {
   "cell_type": "code",
   "execution_count": null,
   "metadata": {},
   "outputs": [],
   "source": [
    "SFTP_2 = SFTP.copy_obj()"
   ]
  }
 ],
 "metadata": {
  "kernelspec": {
   "display_name": "Python 3 (ipykernel)",
   "language": "python",
   "name": "python3"
  },
  "language_info": {
   "codemirror_mode": {
    "name": "ipython",
    "version": 3
   },
   "file_extension": ".py",
   "mimetype": "text/x-python",
   "name": "python",
   "nbconvert_exporter": "python",
   "pygments_lexer": "ipython3",
   "version": "3.9.13"
  }
 },
 "nbformat": 4,
 "nbformat_minor": 4
}
