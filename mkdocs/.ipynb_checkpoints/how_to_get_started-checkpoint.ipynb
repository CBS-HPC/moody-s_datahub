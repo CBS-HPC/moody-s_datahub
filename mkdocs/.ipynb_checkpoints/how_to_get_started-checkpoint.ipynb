{
 "cells": [
  {
   "cell_type": "markdown",
   "metadata": {},
   "source": [
    "## Download \n",
    "\n",
    "The pip wheel can be manually downloaded using the link below: \n",
    "\n",
    "https://github.com/CBS-HPC/moody-s_datahub/blob/main/dist/moodys_datahub-0.0.1-py3-none-any.whl\n",
    "\n",
    "\n",
    "Or directly to the working folder by running the line below:"
   ]
  },
  {
   "cell_type": "code",
   "execution_count": 1,
   "metadata": {},
   "outputs": [],
   "source": [
    "!curl -s -L -o moodys_datahub-0.0.1-py3-none-any.whl https://github.com/CBS-HPC/moody-s_datahub/blob/main/dist/moodys_datahub-0.0.1-py3-none-any.whl "
   ]
  },
  {
   "cell_type": "markdown",
   "metadata": {},
   "source": [
    "## Installation\n",
    "\n",
    "Install the package \"orbis-0.0.1-py3-none-any.whl\" or \"orbis-0.0.1.tar.gz\" using pip:\n"
   ]
  },
  {
   "cell_type": "code",
   "execution_count": null,
   "metadata": {
    "vscode": {
     "languageId": "shellscript"
    }
   },
   "outputs": [],
   "source": [
    "pip install moodys_datahub-0.0.1-py3-none-any.whl"
   ]
  },
  {
   "cell_type": "markdown",
   "metadata": {},
   "source": [
    "## Usage"
   ]
  },
  {
   "cell_type": "code",
   "execution_count": 1,
   "metadata": {},
   "outputs": [],
   "source": [
    "from moodys_datahub.tools import *"
   ]
  },
  {
   "cell_type": "markdown",
   "metadata": {},
   "source": [
    "### Connect to SFTP server using the provided SSH key file (.pem)"
   ]
  },
  {
   "cell_type": "code",
   "execution_count": 2,
   "metadata": {},
   "outputs": [],
   "source": [
    "# Connects to default CBS SFTP server\n",
    "SFTP = Sftp(privatekey=\"user_provided-ssh-key.pem\")\n",
    "\n",
    "# Connects to custom SFTP server\n",
    "SFTP = Sftp(hostname = \"example.com\", username = \"username\", port = 22,privatekey=\"user_provided-ssh-key.pem\") "
   ]
  },
  {
   "cell_type": "markdown",
   "metadata": {},
   "source": [
    "### Select Data Product and Table\n",
    "\n",
    "Run the function below to select \"Data Product\" and \"Table\" that are available on the SFTP."
   ]
  },
  {
   "cell_type": "code",
   "execution_count": 2,
   "metadata": {},
   "outputs": [
    {
     "ename": "NameError",
     "evalue": "name 'SFTP' is not defined",
     "output_type": "error",
     "traceback": [
      "\u001b[1;31m---------------------------------------------------------------------------\u001b[0m",
      "\u001b[1;31mNameError\u001b[0m                                 Traceback (most recent call last)",
      "Cell \u001b[1;32mIn[2], line 1\u001b[0m\n\u001b[1;32m----> 1\u001b[0m \u001b[43mSFTP\u001b[49m\u001b[38;5;241m.\u001b[39mselect_data()\n",
      "\u001b[1;31mNameError\u001b[0m: name 'SFTP' is not defined"
     ]
    }
   ],
   "source": [
    "SFTP.select_data()"
   ]
  },
  {
   "cell_type": "markdown",
   "metadata": {},
   "source": [
    "### Overview of Remote Files\n",
    "\n",
    "The \"Data Product\" and \"Table\" has been selected the associated files on the SFTP server are listed as shown below:"
   ]
  },
  {
   "cell_type": "code",
   "execution_count": null,
   "metadata": {},
   "outputs": [],
   "source": [
    "SFTP.remote_files"
   ]
  },
  {
   "cell_type": "markdown",
   "metadata": {},
   "source": [
    "### Column Selection\n",
    "\n",
    "Select which columns (variables) to keep "
   ]
  },
  {
   "cell_type": "code",
   "execution_count": null,
   "metadata": {},
   "outputs": [],
   "source": [
    "SFTP.select_columns()"
   ]
  },
  {
   "cell_type": "markdown",
   "metadata": {},
   "source": [
    "### BVD Filter\n",
    "\n",
    "Set a \"bvd_id\" filter. This can be provided in different ways as seen below as a python list of in .txt [Link] or .xlsx[Link] format. When setting the .bvd_list the user will be prompted to select one or more \"bvd\" related columns.\n",
    "\n",
    "It can perform an extract search based on full bvd_id numbers or based on the country code that is the two starting letter of the bvd_id numbers."
   ]
  },
  {
   "cell_type": "code",
   "execution_count": null,
   "metadata": {},
   "outputs": [],
   "source": [
    "# Text file\n",
    "SFTP.bvd_list = 'bvd_numbers.txt'\n",
    "\n",
    "# Excel file - Will search through columns for relevant bvd formats\n",
    "SFTP.bvd_list = 'bvd_numbers.xlsx'\n",
    "\n",
    "# Country filter\n",
    "SFTP.bvd_list = ['US','DK','CN']\n",
    "\n",
    "# bvd number lists\n",
    "SFTP.bvd_list = ['DK28505116','SE5567031702','SE5565475489','NO934382404','SE5566674205','DK55828415']"
   ]
  },
  {
   "cell_type": "markdown",
   "metadata": {},
   "source": [
    "### Time Period Filter\n",
    "\n",
    "A time periode filter can be set as seen below. Subsequently the user will be prompted to select a \"date\" column. \n",
    "\n",
    "Not all table have suitable \"date\" columns for which time periode filtration is not possible. "
   ]
  },
  {
   "cell_type": "code",
   "execution_count": null,
   "metadata": {},
   "outputs": [],
   "source": [
    "SFTP.time_period = [1998,2005]"
   ]
  },
  {
   "cell_type": "markdown",
   "metadata": {},
   "source": [
    "### Create Filters using the SFTP.query() method\n",
    "\n",
    "With the SFTP.query() method the user can create more custom filters.The method utilises pandas.query() method. A few examples are shown below:"
   ]
  },
  {
   "cell_type": "code",
   "execution_count": null,
   "metadata": {},
   "outputs": [],
   "source": [
    "# Example 1: \n",
    "SFTP.query =\"total_assets > 1000000000\"\n",
    "\n",
    "# Example 2\n",
    "query_args = ['CN9360885371','CN9360885372','CN9360885373']\n",
    "SFTP.query=f\"bvd_id_number in {query_args}\"\n",
    "\n",
    "# Example 3\n",
    "query_args = 'DK'\n",
    "SFTP.query = f\"bvd_id_number.str.startswith('{query_args}', na=False)\"\n",
    "\n",
    "# Example 4\n",
    "bvd_numbers = ['CN9360885371','CN9360885372','CN9360885373']\n",
    "country_code = 'CN'\n",
    "SFTP.query =f\"bvd_id_number in {bvd_numbers} | (total_assets > 1000000000 & bvd_id_number.str.startswith('{country_code}', na=False))\""
   ]
  },
  {
   "cell_type": "markdown",
   "metadata": {},
   "source": [
    "### Create Filters using custom functions\n",
    "\n",
    "It is also possible to defined SFTP.queryprovide a custom functionWith the pandas.query() method the user can create more custom filters. Below are show four examples of how to setup a query string. "
   ]
  },
  {
   "cell_type": "code",
   "execution_count": null,
   "metadata": {},
   "outputs": [],
   "source": [
    "bvd_id_numbers = ['CN9360885371','CN9360885372','CN9360885373']\n",
    "column_filter = ['bvd_id_number','fixed_assets','original_currency','total_assets']  # Example column filter\n",
    "\n",
    "def bvd_filter(df,bvd_id_numbers,column_filter,specific_value,specific_col):\n",
    "\n",
    "     # Check if specific_col is a column in the DataFrame\n",
    "    if specific_col is not None and specific_col not in df.columns:\n",
    "        raise ValueError(f\"{specific_col} is not a column in the DataFrame.\")\n",
    "\n",
    "    if specific_value is not None:\n",
    "                df = df[df[specific_col] > specific_value]\n",
    "\n",
    "    if bvd_id_numbers:\n",
    "        if isinstance(bvd_id_numbers, list):\n",
    "            row_filter = df['bvd_id_number'].isin(bvd_id_numbers)\n",
    "        elif isinstance(bvd_id_numbers, str):\n",
    "            row_filter  = df['bvd_id_number'].str.startswith(bvd_id_numbers)\n",
    "        else:\n",
    "            raise ValueError(\"bvd_id_numbers must be a list or a string\")\n",
    "                \n",
    "        if row_filter.any():\n",
    "            df = df.loc[row_filter]\n",
    "        else: \n",
    "           df = None \n",
    "\n",
    "    if df is not None and column_filter:\n",
    "        df = df[column_filter]\n",
    "\n",
    "    return df\n",
    "\n",
    "SFTP.query = bvd_filter\n",
    "SFTP.query_args = [bvd_id_numbers,column_filter,1000000000,'total_assets']\n"
   ]
  },
  {
   "cell_type": "markdown",
   "metadata": {},
   "source": [
    "### Test the selected Filters\n",
    "\n",
    "Before running the selected filters on all files (SFTP.remote_files) is can be a good idea to test it on a single sub-file using the function below. \n",
    "\n",
    "**It should be noted that the sub-file that is used below will not contain rows that a relevant for the defined filters.**"
   ]
  },
  {
   "cell_type": "code",
   "execution_count": null,
   "metadata": {},
   "outputs": [],
   "source": [
    "df_sample = SFTP.process_one()\n",
    "\n",
    "df_sample = SFTP.process_one(save_to = 'csv',files = SFTP.remote_files[0], n_rows = 2000)"
   ]
  },
  {
   "cell_type": "markdown",
   "metadata": {},
   "source": [
    "### Download all files before \"Batch Processing\"\n",
    "\n",
    "If working on a slower connection it may be benificial to start downloading all remote files before processing them.\n",
    "\n",
    "When the downloading process has been started \"SFTP._download_finished\" will change from a \"None\" to \"False and then \"True\" upon download completion.\n",
    "\n",
    "The function is executed asyncionsly and the user can proceed working in the jupyter notebook while it is running.\n"
   ]
  },
  {
   "cell_type": "code",
   "execution_count": null,
   "metadata": {},
   "outputs": [],
   "source": [
    "SFTP.download_all()\n",
    "\n",
    "# Define the number of workers/processors that should be utilsed. \n",
    "\n",
    "SFTP.download_all(num_workers = 12)"
   ]
  },
  {
   "cell_type": "markdown",
   "metadata": {},
   "source": [
    "### Batch Process for on all files \n",
    "\n",
    "All files can be processed using the function below. \n",
    "\n",
    "- If \"SFTP._download_finished\" is \"None\" the function also download the files. \n",
    "\n",
    "- If \"SFTP._download_finished\" is \"False\" it will wait upon the download process has been completed and \"SFTP._download_finished\" is set to \"True\". "
   ]
  },
  {
   "cell_type": "code",
   "execution_count": null,
   "metadata": {},
   "outputs": [],
   "source": [
    "\n",
    "# If no input arguments are provided it will utilise the filters that has beeen defined in the selection above.\n",
    "results = SFTP.process_all()\n",
    "\n",
    "# Input arguments can also be set manually as shown below:  \n",
    "results = SFTP.process_all(files = SFTP.remote_files, \n",
    "                            destination = \"file_name\",  \n",
    "                            num_workers = 12, \n",
    "                            select_cols = ['bvd_id_number','fixed_assets','original_currency','total_assets'],\n",
    "                            date_query = None,\n",
    "                            bvd_query = None,\n",
    "                            query = bvd_filter, \n",
    "                            query_args = [bvd_id_numbers,column_filter,1000000000,'total_assets']\n",
    "                            )\n"
   ]
  },
  {
   "cell_type": "markdown",
   "metadata": {},
   "source": [
    "### Search in Data Dictionary for variables/columns\n",
    "\n",
    "It is possible to search in the \"Data Dictionary\" for variables, keywords or topic. The \"Data Dictionary\" will be filtrated according to \"Data Product\" and \"Table\" selection."
   ]
  },
  {
   "cell_type": "code",
   "execution_count": 6,
   "metadata": {},
   "outputs": [
    {
     "data": {
      "text/html": [
       "<div>\n",
       "<style scoped>\n",
       "    .dataframe tbody tr th:only-of-type {\n",
       "        vertical-align: middle;\n",
       "    }\n",
       "\n",
       "    .dataframe tbody tr th {\n",
       "        vertical-align: top;\n",
       "    }\n",
       "\n",
       "    .dataframe thead th {\n",
       "        text-align: right;\n",
       "    }\n",
       "</style>\n",
       "<table border=\"1\" class=\"dataframe\">\n",
       "  <thead>\n",
       "    <tr style=\"text-align: right;\">\n",
       "      <th></th>\n",
       "      <th>Unnamed: 0</th>\n",
       "      <th>Data Product</th>\n",
       "      <th>Table</th>\n",
       "      <th>Column</th>\n",
       "      <th>Definition</th>\n",
       "    </tr>\n",
       "  </thead>\n",
       "  <tbody>\n",
       "    <tr>\n",
       "      <th>1546</th>\n",
       "      <td>1547</td>\n",
       "      <td>Key Ownership (Monthly)</td>\n",
       "      <td>basic_shareholder_info</td>\n",
       "      <td>no_of_recorded_subsidiaries</td>\n",
       "      <td>This field indicates the number of subsidiarie...</td>\n",
       "    </tr>\n",
       "  </tbody>\n",
       "</table>\n",
       "</div>"
      ],
      "text/plain": [
       "      Unnamed: 0             Data Product                   Table  \\\n",
       "1546        1547  Key Ownership (Monthly)  basic_shareholder_info   \n",
       "\n",
       "                           Column  \\\n",
       "1546  no_of_recorded_subsidiaries   \n",
       "\n",
       "                                             Definition  \n",
       "1546  This field indicates the number of subsidiarie...  "
      ]
     },
     "execution_count": 6,
     "metadata": {},
     "output_type": "execute_result"
    }
   ],
   "source": [
    "df_search = SFTP.search_dictionary(save_to = 'xlsx', search_word = 'total_asset')\n",
    "\n",
    "df_search = SFTP.search_dictionary(save_to = 'xlsx',\n",
    "                                    search_word = 'subsidiaries',\n",
    "                                    search_cols= { 'Data Product': False,'Table': False,'Column': True,'Definition': False },\n",
    "                                    letters_only = True,\n",
    "                                    extact_match = False,\n",
    "                                    data_product = None,\n",
    "                                    table = None,  \n",
    "                                    )"
   ]
  },
  {
   "cell_type": "markdown",
   "metadata": {},
   "source": [
    "### Search for country codes\n",
    "\n",
    "The function below can be used to find the \"bvd_id\" country codes for specific nations."
   ]
  },
  {
   "cell_type": "code",
   "execution_count": null,
   "metadata": {},
   "outputs": [],
   "source": [
    "# Search for country codes by country name\n",
    "SFTP.search_country_codes(search_word='congo')\n",
    "\n",
    "# Define columns to search in:\n",
    "\n",
    "SFTP.search_country_codes(search_word='DK', search_cols = { 'Country': False,'Code': True })"
   ]
  },
  {
   "cell_type": "markdown",
   "metadata": {},
   "source": [
    "### Create a new SFTP Object\n",
    "\n",
    "The \"SFTP.copy_obj()\" function can be used to create a new SFTP object in order to process another \"Data Product\"/\"Table.\n",
    "\n",
    "- SFTP.select_data() will be prompted automatically \n",
    "- Other filters will be reset."
   ]
  },
  {
   "cell_type": "code",
   "execution_count": 6,
   "metadata": {},
   "outputs": [
    {
     "data": {
      "application/vnd.jupyter.widget-view+json": {
       "model_id": "ace0d4a3c85640a3ba46ae819e5bf1fe",
       "version_major": 2,
       "version_minor": 0
      },
      "text/plain": [
       "Dropdown(description='Data Product:', options=('Listed Financials (Monthly)', 'Interim Financials (Monthly)', …"
      ]
     },
     "metadata": {},
     "output_type": "display_data"
    },
    {
     "data": {
      "application/vnd.jupyter.widget-view+json": {
       "model_id": "48af13c07fcb484697d3d6242904607b",
       "version_major": 2,
       "version_minor": 0
      },
      "text/plain": [
       "Dropdown(description='Table:', disabled=True, options=(), value=None)"
      ]
     },
     "metadata": {},
     "output_type": "display_data"
    },
    {
     "data": {
      "application/vnd.jupyter.widget-view+json": {
       "model_id": "8a64b9643728458885f077ff629997cc",
       "version_major": 2,
       "version_minor": 0
      },
      "text/plain": [
       "Button(description='OK', disabled=True, style=ButtonStyle())"
      ]
     },
     "metadata": {},
     "output_type": "display_data"
    },
    {
     "data": {
      "application/vnd.jupyter.widget-view+json": {
       "model_id": "e7900ce2a85c44a2af8b6ca65c1b6593",
       "version_major": 2,
       "version_minor": 0
      },
      "text/plain": [
       "Button(description='Cancel', style=ButtonStyle())"
      ]
     },
     "metadata": {},
     "output_type": "display_data"
    }
   ],
   "source": [
    "SFTP_2 = SFTP.copy_obj()"
   ]
  },
  {
   "cell_type": "markdown",
   "metadata": {},
   "source": [
    "### Other Options"
   ]
  },
  {
   "cell_type": "code",
   "execution_count": null,
   "metadata": {},
   "outputs": [],
   "source": [
    "SFTP.delete_files = False # True/False: To delete the downloaded files post curation (to prevent very large amounts of data being stored locally)\n",
    "SFTP.concat_files = True # True/False: To concatenate the curated data product sub files into a single output file.\n",
    "SFTP.output_format =  [\".xlsx\",\".csv\",\".parquet\"] # [\".csv\",\"xlsx\",\".parquet\",\".pickle\",\".dta\"] # Defining output formats.\n",
    "SFTP.file_size_mb = 100 # Cut-off size for when to split output files into multiple files."
   ]
  },
  {
   "cell_type": "markdown",
   "metadata": {},
   "source": [
    "### Other functions"
   ]
  },
  {
   "cell_type": "code",
   "execution_count": 14,
   "metadata": {},
   "outputs": [
    {
     "name": "stdout",
     "output_type": "stream",
     "text": [
      "The folloiwng query was executed:`Column`.str.contains('total_asset', case=False, na=False,regex=False) | `Definition`.str.contains('total_asset', case=False, na=False,regex=False)\n",
      "Results have been saved to 'orbis_dict_search_20240704_092243.xlsx'\n"
     ]
    }
   ],
   "source": [
    "search_dict = SFTP.search_dictionary(save_to='xlsx', search_word='total_asset')\n",
    "\n",
    "# Create a new SFTP Object\n",
    "SFTP_2 = SFTP.copy_obj()\n",
    "\n",
    "# Search for country codes\n",
    "SFTP.search_country_codes(search_word='congo')"
   ]
  },
  {
   "cell_type": "markdown",
   "metadata": {},
   "source": []
  },
  {
   "cell_type": "markdown",
   "metadata": {},
   "source": [
    "# Matching bvd_numbers from Identifiers dataset"
   ]
  },
  {
   "cell_type": "code",
   "execution_count": 4,
   "metadata": {},
   "outputs": [],
   "source": [
    "SFTP.delete_files = False # True/False: To delete the downloaded files post curation (to prevent very large amounts of data being stored locally)\n",
    "SFTP.concat_files = True # True/False: To concatenate the curated data product sub files into a single output file.\n",
    "SFTP.output_format =  [\".csv\"] # Defining output formats.\n",
    "SFTP.file_size_mb = 300 # Cut-off size for when to split output files into multiple files."
   ]
  },
  {
   "cell_type": "markdown",
   "metadata": {},
   "source": [
    "## company name -> bvd_numbers (using fuzzy match algoritm)"
   ]
  },
  {
   "cell_type": "code",
   "execution_count": 13,
   "metadata": {},
   "outputs": [
    {
     "name": "stdout",
     "output_type": "stream",
     "text": [
      "Remote path is valid:'IvdS14LwRxucymVszEBE3Q/unscheduled/giin'\n",
      "Folder 'company_names' created.\n"
     ]
    }
   ],
   "source": [
    "SFTP.remote_path = \"IvdS14LwRxucymVszEBE3Q/unscheduled/giin\"\n",
    "SFTP.local_path = \"company_names\" \n",
    "df_names = SFTP.process_all(SFTP.remote_files,destination='company_name',select_cols= ['bvd_id_number','name_as_in_the_fatca_register_']) # Only loading the columns defined in filter_col"
   ]
  },
  {
   "cell_type": "code",
   "execution_count": null,
   "metadata": {},
   "outputs": [],
   "source": [
    "# Example usage:\n",
    "input_strings = [\"Bank of America\", \"AXA2\", \"JPMorgan Chase\"]\n",
    "extended_list = input_strings * 100\n",
    "match_col = 'name_as_in_the_fatca_register_'\n",
    "return_col = 'bvd_id_number'\n",
    "\n",
    "str_remove = [\"GMBH\",\" - Branch\",\"CO.\",\"LTD\",\"Ltd\",\"Limited\", \"GMBH\",\"A/S\"]\n",
    "\n",
    "result_df = fuzzy_match(input_strings=extended_list,df=df_names,num_workers=-1, match_column=match_col, return_column=return_col,cut_off=50,remove_str=str_remove)\n",
    "\n",
    "result_df.head()"
   ]
  },
  {
   "cell_type": "markdown",
   "metadata": {},
   "source": [
    "## national id numbers -> bvd_numbers "
   ]
  },
  {
   "cell_type": "code",
   "execution_count": 5,
   "metadata": {},
   "outputs": [
    {
     "name": "stdout",
     "output_type": "stream",
     "text": [
      "Folder 'Identifiers' already exists.\n",
      "Remote path is valid:'IvdS14LwRxucymVszEBE3Q/unscheduled/identifiers'\n"
     ]
    }
   ],
   "source": [
    "SFTP.local_path = \"Identifiers\"\n",
    "SFTP.remote_path = \"IvdS14LwRxucymVszEBE3Q/unscheduled/identifiers\"\n",
    "\n",
    "# Below is just to collect 1000 random 'national_id_numbers'\n",
    "SFTP.output_format =  None # Defining output formats.\n",
    "df_id_number = SFTP.process_all(files =SFTP.remote_files[0:4],num_workers=-1,destination='identifiers',select_cols= ['bvd_id_number','national_id_number'])\n",
    "national_id_number = random_sample = df_id_number['national_id_number'].sample(n=1000, random_state=42)\n"
   ]
  },
  {
   "cell_type": "code",
   "execution_count": 6,
   "metadata": {},
   "outputs": [
    {
     "data": {
      "text/plain": [
       "True"
      ]
     },
     "execution_count": 6,
     "metadata": {},
     "output_type": "execute_result"
    }
   ],
   "source": [
    "SFTP.output_format =  [\".csv\"] # Defining output formats.\n",
    "\n",
    "# Define query statement\n",
    "query_args = list(national_id_number.dropna())\n",
    "query_str =f\"national_id_number in {query_args}\"\n",
    "\n",
    "# Execute\n",
    "query_id_numbers = SFTP.process_all(SFTP.remote_files[0:4],num_workers = -1,destination =\"query_2\",select_cols = ['bvd_id_number','national_id_number'],query = query_str,query_args=query_args) \n",
    "\n",
    "# Sanity check \n",
    "query_id_numbers['national_id_number'].isin(query_args).all()"
   ]
  }
 ],
 "metadata": {
  "kernelspec": {
   "display_name": "Python 3 (ipykernel)",
   "language": "python",
   "name": "python3"
  },
  "language_info": {
   "codemirror_mode": {
    "name": "ipython",
    "version": 3
   },
   "file_extension": ".py",
   "mimetype": "text/x-python",
   "name": "python",
   "nbconvert_exporter": "python",
   "pygments_lexer": "ipython3",
   "version": "3.9.13"
  }
 },
 "nbformat": 4,
 "nbformat_minor": 4
}
