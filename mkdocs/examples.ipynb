{
 "cells": [
  {
   "cell_type": "markdown",
   "metadata": {},
   "source": [
    "## Usage"
   ]
  },
  {
   "cell_type": "code",
   "execution_count": 1,
   "metadata": {},
   "outputs": [],
   "source": [
    "from moodys_datahub.tools import *\n",
    "from moodys_datahub.utils import *"
   ]
  },
  {
   "cell_type": "markdown",
   "metadata": {},
   "source": [
    "### Connect to SFTP server using the provided SSH key file (.pem)"
   ]
  },
  {
   "cell_type": "code",
   "execution_count": 2,
   "metadata": {},
   "outputs": [],
   "source": [
    "# Connects to default CBS SFTP server\n",
    "SFTP = Sftp(privatekey=\"user_provided-ssh-key.pem\")\n",
    "\n",
    "# Connects to custom SFTP server\n",
    "SFTP = Sftp(hostname = \"example.com\", username = \"username\", port = 22,privatekey=\"user_provided-ssh-key.pem\") "
   ]
  },
  {
   "cell_type": "code",
   "execution_count": 4,
   "metadata": {},
   "outputs": [],
   "source": [
    "SFTP.delete_files = False # True/False: To delete the downloaded files post curation (to prevent very large amounts of data being stored locally)\n",
    "SFTP.concat_files = True # True/False: To concatenate the curated data product sub files into a single output file.\n",
    "SFTP.output_format =  [\".csv\"] # Defining output formats.\n",
    "SFTP.file_size_mb = 300 # Cut-off size for when to split output files into multiple files."
   ]
  },
  {
   "cell_type": "markdown",
   "metadata": {},
   "source": [
    "## company name -> bvd_numbers (using fuzzy match algoritm)"
   ]
  },
  {
   "cell_type": "code",
   "execution_count": 13,
   "metadata": {},
   "outputs": [
    {
     "name": "stdout",
     "output_type": "stream",
     "text": [
      "Remote path is valid:'IvdS14LwRxucymVszEBE3Q/unscheduled/giin'\n",
      "Folder 'company_names' created.\n"
     ]
    }
   ],
   "source": [
    "SFTP.remote_path = \"IvdS14LwRxucymVszEBE3Q/unscheduled/giin\"\n",
    "SFTP.local_path = \"company_names\" \n",
    "df_names = SFTP.process_all(SFTP.remote_files,destination='company_name',select_cols= ['bvd_id_number','name_as_in_the_fatca_register_']) # Only loading the columns defined in filter_col"
   ]
  },
  {
   "cell_type": "code",
   "execution_count": null,
   "metadata": {},
   "outputs": [],
   "source": [
    "# Example usage:\n",
    "input_strings = [\"Bank of America\", \"AXA2\", \"JPMorgan Chase\"]\n",
    "extended_list = input_strings * 100\n",
    "match_col = 'name_as_in_the_fatca_register_'\n",
    "return_col = 'bvd_id_number'\n",
    "\n",
    "str_remove = [\"GMBH\",\" - Branch\",\"CO.\",\"LTD\",\"Ltd\",\"Limited\", \"GMBH\",\"A/S\"]\n",
    "\n",
    "result_df = fuzzy_match(input_strings=extended_list,df=df_names,num_workers=-1, match_column=match_col, return_column=return_col,cut_off=50,remove_str=str_remove)\n",
    "\n",
    "result_df.head()"
   ]
  },
  {
   "cell_type": "markdown",
   "metadata": {},
   "source": [
    "## national id numbers -> bvd_numbers "
   ]
  },
  {
   "cell_type": "code",
   "execution_count": 5,
   "metadata": {},
   "outputs": [
    {
     "name": "stdout",
     "output_type": "stream",
     "text": [
      "Folder 'Identifiers' already exists.\n",
      "Remote path is valid:'IvdS14LwRxucymVszEBE3Q/unscheduled/identifiers'\n"
     ]
    }
   ],
   "source": [
    "SFTP.local_path = \"Identifiers\"\n",
    "SFTP.remote_path = \"IvdS14LwRxucymVszEBE3Q/unscheduled/identifiers\"\n",
    "\n",
    "# Below is just to collect 1000 random 'national_id_numbers'\n",
    "SFTP.output_format =  None # Defining output formats.\n",
    "df_id_number = SFTP.process_all(files =SFTP.remote_files[0:4],num_workers=-1,destination='identifiers',select_cols= ['bvd_id_number','national_id_number'])\n",
    "national_id_number = random_sample = df_id_number['national_id_number'].sample(n=1000, random_state=42)\n"
   ]
  },
  {
   "cell_type": "code",
   "execution_count": 6,
   "metadata": {},
   "outputs": [
    {
     "data": {
      "text/plain": [
       "True"
      ]
     },
     "execution_count": 6,
     "metadata": {},
     "output_type": "execute_result"
    }
   ],
   "source": [
    "SFTP.output_format =  [\".csv\"] # Defining output formats.\n",
    "\n",
    "# Define query statement\n",
    "query_args = list(national_id_number.dropna())\n",
    "query_str =f\"national_id_number in {query_args}\"\n",
    "\n",
    "# Execute\n",
    "query_id_numbers = SFTP.process_all(SFTP.remote_files[0:4],num_workers = -1,destination =\"query_2\",select_cols = ['bvd_id_number','national_id_number'],query = query_str,query_args=query_args) \n",
    "\n",
    "# Sanity check \n",
    "query_id_numbers['national_id_number'].isin(query_args).all()"
   ]
  }
 ],
 "metadata": {
  "kernelspec": {
   "display_name": "Python 3 (ipykernel)",
   "language": "python",
   "name": "python3"
  },
  "language_info": {
   "codemirror_mode": {
    "name": "ipython",
    "version": 3
   },
   "file_extension": ".py",
   "mimetype": "text/x-python",
   "name": "python",
   "nbconvert_exporter": "python",
   "pygments_lexer": "ipython3",
   "version": "3.9.16"
  }
 },
 "nbformat": 4,
 "nbformat_minor": 4
}
